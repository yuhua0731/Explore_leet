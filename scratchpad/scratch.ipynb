{
    "cells": [
        {
            "cell_type": "code",
            "execution_count": 1,
            "metadata": {},
            "outputs": [
                {
                    "data": {
                        "text/plain": [
                            "[5, 6]"
                        ]
                    },
                    "execution_count": 1,
                    "metadata": {},
                    "output_type": "execute_result"
                }
            ],
            "source": [
                "from typing import List\n",
                "class Solution:\n",
                "    def findDisappearedNumbers(self, nums: List[int]) -> List[int]:\n",
                "        # without extra space and run in O(n) time\n",
                "        nums.sort()\n",
                "        last_match = 0\n",
                "        ans = list()\n",
                "        for i in nums:\n",
                "            if i > last_match: \n",
                "                for tmp in range(last_match + 1, i):\n",
                "                    ans.append(tmp)\n",
                "                last_match = i\n",
                "        return ans\n",
                "\n",
                "Solution().findDisappearedNumbers(nums = [4,3,2,7,8,2,3,1])\n",
                "\n",
                "\n"
            ]
        },
        {
            "cell_type": "code",
            "execution_count": null,
            "metadata": {},
            "outputs": [],
            "source": [
                "def factor(x, y) -> bool:\n",
                "    if x < y: x, y = y, x\n",
                "    while y > 1:\n",
                "        x, y = y, x % y\n",
                "        if y == 0: return True\n",
                "    return False\n",
                "\n",
                "factor(6, 9)"
            ]
        },
        {
            "cell_type": "code",
            "execution_count": 2,
            "metadata": {},
            "outputs": [
                {
                    "name": "stdout",
                    "output_type": "stream",
                    "text": [
                        "0 1\n",
                        "1 2\n"
                    ]
                }
            ],
            "source": [
                "value = [0, 1, 2]\n",
                "for i, j in zip(value, value[1:]):\n",
                "    print(i, j)\n",
                "\n",
                "ans = {1, 2}"
            ]
        },
        {
            "cell_type": "code",
            "execution_count": 1,
            "metadata": {},
            "outputs": [
                {
                    "name": "stdout",
                    "output_type": "stream",
                    "text": [
                        "no match\n"
                    ]
                }
            ],
            "source": [
                "a = 3\n",
                "match a:\n",
                "    case 1:\n",
                "        print(\"1\")\n",
                "    case 2:\n",
                "        print(\"2\")\n",
                "    case _:\n",
                "        print(\"no match\")\n",
                "        "
            ]
        },
        {
            "cell_type": "code",
            "execution_count": 2,
            "metadata": {},
            "outputs": [
                {
                    "name": "stdout",
                    "output_type": "stream",
                    "text": [
                        "6\n"
                    ]
                }
            ],
            "source": [
                "from typing import List\n",
                "\n",
                "def shortestPathBinaryMatrix(grid: List[List[int]]) -> int:\n",
                "    n = len(grid)\n",
                "    if grid[0][0] == 1 or grid[n - 1][n - 1] == 1: return -1\n",
                "    dir = [[0, 1], [0, -1], [1, 0], [-1, 0], [1, 1], [1, -1], [-1, 1], [-1, -1]]\n",
                "\n",
                "    def find_next(x, y):\n",
                "    \n",
                "        path = float('inf')\n",
                "        for i, j in dir:\n",
                "            x_, y_ = x + i, y + j\n",
                "            if n > x_ >= 0 <= y_ < n and grid[x_][y_] == 0:\n",
                "                grid[x_][y_] = 1\n",
                "                path = min(path, find_next(x_, y_))\n",
                "                grid[x_][y_] = 0\n",
                "        return path + 1\n",
                "    ans = find_next(0, 0)\n",
                "    return ans if ans < float('inf') else -1\n",
                "\n",
                "print(shortestPathBinaryMatrix([[0,0,0,1],[0,0,1,0],[0,1,0,0],[1,0,0,0]]))"
            ]
        },
        {
            "cell_type": "code",
            "execution_count": 2,
            "metadata": {},
            "outputs": [],
            "source": [
                "b = 0\n",
                "a = 'XO'[False]\n",
                "ans = {1, 2} \n",
                "ans |= {2, 3}\n",
                "ans = list()\n",
                "ans += (1, 2), (2, 3)\n",
                "\n"
            ]
        },
        {
            "cell_type": "code",
            "execution_count": 5,
            "metadata": {},
            "outputs": [
                {
                    "data": {
                        "text/plain": [
                            "4"
                        ]
                    },
                    "execution_count": 5,
                    "metadata": {},
                    "output_type": "execute_result"
                }
            ],
            "source": [
                "import math\n",
                "math.floor(math.log2(9))"
            ]
        },
        {
            "cell_type": "code",
            "execution_count": 17,
            "metadata": {},
            "outputs": [
                {
                    "name": "stdout",
                    "output_type": "stream",
                    "text": [
                        "t\n"
                    ]
                }
            ],
            "source": [
                "s = ''\n",
                "s += 't'\n",
                "print(s)"
            ]
        },
        {
            "cell_type": "code",
            "execution_count": 4,
            "metadata": {},
            "outputs": [],
            "source": [
                "str_list = ['', 's', 'hello']\n",
                "str_list = list(filter(None, str_list))\n",
                "str_list = ['', 's', 'hello']\n",
                "str_list = list(filter(bool, str_list))\n",
                "str_list = ['', 's', 'hello']\n",
                "str_list = list(filter(len, str_list))\n",
                "str_list = ['', 's', 'hello']\n",
                "str_list = list(filter(lambda item: item, str_list))"
            ]
        },
        {
            "cell_type": "code",
            "execution_count": 10,
            "metadata": {},
            "outputs": [
                {
                    "name": "stdout",
                    "output_type": "stream",
                    "text": [
                        "0 5\n",
                        "2\n"
                    ]
                }
            ],
            "source": [
                "import re\n",
                "temp = 'hello world hello'\n",
                "m = re.search('hello', temp)\n",
                "print(m.start(), m.end())\n",
                "text = 'No[b]'\n",
                "print(text.index('[b]'))"
            ]
        },
        {
            "cell_type": "code",
            "execution_count": 2,
            "metadata": {},
            "outputs": [],
            "source": [
                "pawn = 'a3'\n",
                "c, r = map(ord, pawn)"
            ]
        },
        {
            "cell_type": "code",
            "execution_count": 5,
            "metadata": {},
            "outputs": [
                {
                    "name": "stdout",
                    "output_type": "stream",
                    "text": [
                        "1.0916625\n"
                    ]
                }
            ],
            "source": [
                "s = '((0.71 - 0.47) / 2 + 0.71 * 3 - 0.16) / 0.8'\n",
                "s = '(0.16 + 0.13333 + 0.015 + 0.66 / 2 + 0.47 / 2) / 0.8'\n",
                "print(eval(s))"
            ]
        },
        {
            "cell_type": "code",
            "execution_count": 44,
            "metadata": {},
            "outputs": [
                {
                    "name": "stdout",
                    "output_type": "stream",
                    "text": [
                        "2021-12-29T10:20:00.238343+08:00 state is 1\n",
                        "1\n",
                        "1 1\n",
                        "$_1\n"
                    ]
                }
            ],
            "source": [
                "from string import Template\n",
                "from datetime import datetime, timezone\n",
                "s = Template(f'{datetime.now(timezone.utc).astimezone().isoformat()} state is $msg')\n",
                "print(s.substitute(msg=f'{1}'))\n",
                "\n",
                "print(Template('$_1').substitute(_1=1))\n",
                "print(Template('$_ 1').substitute(_=1))\n",
                "print(Template('$_1').safe_substitute(_=1))"
            ]
        },
        {
            "cell_type": "code",
            "execution_count": 19,
            "metadata": {},
            "outputs": [
                {
                    "name": "stdout",
                    "output_type": "stream",
                    "text": [
                        "[11, 22]\n",
                        "1hello\n"
                    ]
                }
            ],
            "source": [
                "d = {1: 11, 2: 22}\n",
                "print(list(map(d.get, d.keys())))\n",
                "print('hello'.capitalize())"
            ]
        },
        {
            "cell_type": "code",
            "execution_count": 23,
            "metadata": {},
            "outputs": [
                {
                    "name": "stdout",
                    "output_type": "stream",
                    "text": [
                        "-1\n"
                    ]
                }
            ],
            "source": [
                "text = 'No[b]'\n",
                "print(text.index('[b]'))\n",
                "print(text.find('[b]'))"
            ]
        },
        {
            "cell_type": "code",
            "execution_count": null,
            "metadata": {},
            "outputs": [],
            "source": [
                "import re\n",
                "s = 'password12345'\n",
                "print(re.search('password', s.lower()) == None)"
            ]
        },
        {
            "cell_type": "code",
            "execution_count": 29,
            "metadata": {},
            "outputs": [
                {
                    "name": "stdout",
                    "output_type": "stream",
                    "text": [
                        "False\n"
                    ]
                }
            ],
            "source": [
                "def sort_by_ext(files):\n",
                "    skey = lambda s: (bool(s[:(i:=s.rfind('.'))]), s[i+1:], s[:i])\n",
                "    return sorted(files,key=skey)\n",
                "s = '.txt'\n",
                "print(bool(s[:(i:=s.rfind('.'))]))"
            ]
        },
        {
            "cell_type": "code",
            "execution_count": 36,
            "metadata": {},
            "outputs": [
                {
                    "name": "stdout",
                    "output_type": "stream",
                    "text": [
                        "[2, 3, 1]\n"
                    ]
                }
            ],
            "source": [
                "c = [1, 2, 3]\n",
                "print(c[1:] + c[:1])"
            ]
        },
        {
            "cell_type": "code",
            "execution_count": 41,
            "metadata": {},
            "outputs": [
                {
                    "name": "stdout",
                    "output_type": "stream",
                    "text": [
                        "1\n",
                        "0\n"
                    ]
                }
            ],
            "source": [
                "class test:\n",
                "    def __init__(self):\n",
                "        self.a = 0\n",
                "\n",
                "temp = [test()]\n",
                "ele = temp[0]\n",
                "ele.a += 1\n",
                "\n",
                "ele = temp[0]\n",
                "print(ele.a)\n",
                "\n",
                "temp = [0]\n",
                "ele = temp[0]\n",
                "ele += 1\n",
                "print(temp[0])"
            ]
        },
        {
            "cell_type": "code",
            "execution_count": 6,
            "metadata": {},
            "outputs": [
                {
                    "name": "stdout",
                    "output_type": "stream",
                    "text": [
                        "111\n",
                        "[[2, 4, 0], [3, 2, 1]]\n"
                    ]
                }
            ],
            "source": [
                "print('1' * 3)\n",
                "a = [[3,2],[2,4]]\n",
                "print([[task[0], task[1], index] for index, task in enumerate(sorted(a))])"
            ]
        },
        {
            "cell_type": "code",
            "execution_count": 17,
            "metadata": {},
            "outputs": [
                {
                    "name": "stdout",
                    "output_type": "stream",
                    "text": [
                        "<class 'bool'>\n",
                        "True\n"
                    ]
                }
            ],
            "source": [
                "class Warrior:\n",
                "    def __init__(self, attack = 5):\n",
                "        self.health = 50\n",
                "        self.attack = attack\n",
                "    \n",
                "    @property\n",
                "    def is_alive_prop(self):\n",
                "        return self.health > 0\n",
                "    \n",
                "    def is_alive_func(self):\n",
                "      \treturn self.health > 0\n",
                "\n",
                "if __name__ == '__main__':\n",
                "    chuck = Warrior()\n",
                "    print(type(chuck.is_alive_prop))\n",
                "    if chuck.is_alive_func == True: print('1')\n",
                "    print(chuck.is_alive_func())"
            ]
        },
        {
            "cell_type": "code",
            "execution_count": 20,
            "metadata": {},
            "outputs": [
                {
                    "name": "stdout",
                    "output_type": "stream",
                    "text": [
                        "1\n",
                        "0\n",
                        "0\n"
                    ]
                }
            ],
            "source": [
                "from functools import cache\n",
                "\n",
                "@cache\n",
                "def test(i):\n",
                "    print(i)\n",
                "    return 0\n",
                "print(test(1))\n",
                "print(test(1))"
            ]
        },
        {
            "cell_type": "code",
            "execution_count": 11,
            "metadata": {},
            "outputs": [
                {
                    "name": "stdout",
                    "output_type": "stream",
                    "text": [
                        "49\n",
                        "64\n",
                        "81\n",
                        "100\n",
                        "49\n",
                        "64\n",
                        "144\n",
                        "100\n"
                    ]
                }
            ],
            "source": [
                "def func_yield(n):\n",
                "    while True:\n",
                "        yield n ** 2\n",
                "        n += 1\n",
                "\n",
                "yield_return = func_yield(7)\n",
                "while True:\n",
                "    curr = next(yield_return)\n",
                "    if curr > 100: break\n",
                "    print(curr)\n",
                "\n",
                "yield_return_alter = func_yield(7) # <class 'generator'>\n",
                "for i in yield_return_alter:\n",
                "    if i > 80: break\n",
                "    print(i)\n",
                "print(next(yield_return))\n",
                "print(next(yield_return_alter))"
            ]
        },
        {
            "cell_type": "code",
            "execution_count": 13,
            "metadata": {},
            "outputs": [
                {
                    "name": "stdout",
                    "output_type": "stream",
                    "text": [
                        "/usr/local/Cellar/python@3.9/3.9.9/Frameworks/Python.framework/Versions/3.9/lib/python3.9/re.py\n",
                        "Try to apply the pattern at the start of the string, returning\n",
                        "    a Match object, or None if no match was found.\n"
                    ]
                }
            ],
            "source": [
                "import re\n",
                "print(re.__file__)\n",
                "print(re.match.__doc__)"
            ]
        },
        {
            "cell_type": "code",
            "execution_count": 4,
            "metadata": {},
            "outputs": [
                {
                    "name": "stdout",
                    "output_type": "stream",
                    "text": [
                        "[2, 5, 10, 20]\n",
                        "[0, 2, 5, 10, 20]\n",
                        "[5, 7, 10, 15, 25]\n"
                    ]
                }
            ],
            "source": [
                "from itertools import accumulate\n",
                "\n",
                "row = [2, 3, 5, 10]\n",
                "print(list(accumulate(row)))\n",
                "print(list(accumulate(row, initial = 0)))\n",
                "print(list(accumulate(row, initial = 5)))"
            ]
        },
        {
            "cell_type": "code",
            "execution_count": 26,
            "metadata": {},
            "outputs": [
                {
                    "data": {
                        "text/plain": [
                            "'00'"
                        ]
                    },
                    "execution_count": 26,
                    "metadata": {},
                    "output_type": "execute_result"
                }
            ],
            "source": [
                "import collections\n",
                "\n",
                "def originalDigits(s: str) -> str:\n",
                "    cnt = collections.Counter(s)\n",
                "    digit = ['zero', 'one', 'two', 'three', 'four', 'five', 'six', 'seven', 'eight', 'nine']\n",
                "    def extract(cnt, idx):\n",
                "        ans = ''\n",
                "        if all(i == 0 for i in cnt.values()): return (True, ans)\n",
                "        if idx == 10: return (False, '')\n",
                "        \n",
                "        d_cnt = collections.Counter(digit[idx])\n",
                "        while True:\n",
                "            for key, value in d_cnt.items():\n",
                "                cnt[key] -= value\n",
                "            ans += str(idx)\n",
                "            if min(cnt.values()) >= 0:\n",
                "                res = extract(cnt.copy(), idx + 1)\n",
                "                if res[0]: return (True, ans + res[1])\n",
                "            else:\n",
                "                for key, value in d_cnt.items():\n",
                "                    cnt[key] += value\n",
                "                ans = ans[:-1]\n",
                "                res = extract(cnt.copy(), idx + 1)\n",
                "                if res[0]: return (True, ans + res[1])\n",
                "                else: return (False, '')\n",
                "    \n",
                "    return extract(cnt, 0)[1]\n",
                "\n",
                "originalDigits(s = \"zerozero\")"
            ]
        },
        {
            "cell_type": "code",
            "execution_count": 8,
            "metadata": {},
            "outputs": [
                {
                    "name": "stdout",
                    "output_type": "stream",
                    "text": [
                        "0 1\n",
                        "3 2\n",
                        "2 3\n",
                        "4 4\n",
                        "1 5\n"
                    ]
                }
            ],
            "source": [
                "import math\n",
                "math.tan(math.pi / 4)\n",
                "\n",
                "score = [10,3,8,9,4]\n",
                "for rank, (_, index) in enumerate(sorted([[s, idx] for idx, s in enumerate(score)], key=lambda x: -x[0])):\n",
                "    print(index, rank + 1)"
            ]
        },
        {
            "cell_type": "code",
            "execution_count": 13,
            "metadata": {},
            "outputs": [
                {
                    "data": {
                        "text/plain": [
                            "'1010'"
                        ]
                    },
                    "execution_count": 13,
                    "metadata": {},
                    "output_type": "execute_result"
                }
            ],
            "source": [
                "'{0:08b}'.format(-6)\n",
                "bin((1 << 4) - 6)[2:]"
            ]
        },
        {
            "cell_type": "code",
            "execution_count": 7,
            "metadata": {},
            "outputs": [
                {
                    "data": {
                        "text/plain": [
                            "4.0000327779500005"
                        ]
                    },
                    "execution_count": 7,
                    "metadata": {},
                    "output_type": "execute_result"
                }
            ],
            "source": [
                "s = '10000 * 130 * 2 / 13 / 17'\n",
                "s = '1000000 / 10000 / 4 * 50.93 * 3.1415926 / 1000'\n",
                "eval(s)"
            ]
        },
        {
            "cell_type": "code",
            "execution_count": 10,
            "metadata": {},
            "outputs": [
                {
                    "data": {
                        "text/plain": [
                            "'11111111111111111111111111111111'"
                        ]
                    },
                    "execution_count": 10,
                    "metadata": {},
                    "output_type": "execute_result"
                }
            ],
            "source": [
                "n = (1 << 32) - 1\n",
                "bin(n)[2:]\n",
                "# bin(2147483651)[2:]"
            ]
        },
        {
            "cell_type": "code",
            "execution_count": 5,
            "metadata": {},
            "outputs": [
                {
                    "name": "stdout",
                    "output_type": "stream",
                    "text": [
                        "012345678912345678912345678912"
                    ]
                }
            ],
            "source": [
                "for i in range(30):\n",
                "    while i > 9:\n",
                "        i = eval('+'.join(list(str(i))))\n",
                "    print(i, end='')"
            ]
        },
        {
            "cell_type": "code",
            "execution_count": 2,
            "metadata": {},
            "outputs": [
                {
                    "name": "stdout",
                    "output_type": "stream",
                    "text": [
                        "[2, 4, 8, 5]\n"
                    ]
                }
            ],
            "source": [
                "import heapq\n",
                "\n",
                "pq = []\n",
                "insert = [4,5,8,2]\n",
                "for i in insert:\n",
                "    heapq.heappush(pq, i)\n",
                "print(pq)"
            ]
        },
        {
            "cell_type": "code",
            "execution_count": 4,
            "metadata": {},
            "outputs": [
                {
                    "data": {
                        "text/plain": [
                            "[('1', 3)]"
                        ]
                    },
                    "execution_count": 4,
                    "metadata": {},
                    "output_type": "execute_result"
                }
            ],
            "source": [
                "import collections\n",
                "\n",
                "collections.Counter('111').most_common(2)"
            ]
        },
        {
            "cell_type": "code",
            "execution_count": 1,
            "metadata": {},
            "outputs": [
                {
                    "data": {
                        "text/plain": [
                            "[[7]]"
                        ]
                    },
                    "execution_count": 1,
                    "metadata": {},
                    "output_type": "execute_result"
                }
            ],
            "source": [
                "from typing import List\n",
                "\n",
                "def combinationSum(candidates: List[int], target: int) -> List[List[int]]:\n",
                "    # dfs\n",
                "    ans = []\n",
                "    n = len(candidates)\n",
                "    def extend(idx, pre, remain):\n",
                "        if remain == 0: \n",
                "            ans.append(pre)\n",
                "            return\n",
                "        if remain < 0 or idx == n: return\n",
                "        extend(idx, pre + [candidates[idx]], remain - candidates[idx])\n",
                "        extend(idx + 1, pre, remain)\n",
                "\n",
                "    extend(0, [], target)\n",
                "    return ans\n",
                "\n",
                "combinationSum(candidates = [7], target = 7)"
            ]
        },
        {
            "cell_type": "code",
            "execution_count": 8,
            "metadata": {},
            "outputs": [
                {
                    "name": "stdout",
                    "output_type": "stream",
                    "text": [
                        "['3']\n",
                        "['3', '7']\n",
                        "['1']\n",
                        "['1', '9']\n",
                        "['1', '9', '9']\n",
                        "['1', '9', '9', '9']\n"
                    ]
                },
                {
                    "data": {
                        "text/plain": [
                            "'1999'"
                        ]
                    },
                    "execution_count": 8,
                    "metadata": {},
                    "output_type": "execute_result"
                }
            ],
            "source": [
                "def removeKdigits(num: str, k: int) -> str:\n",
                "    numStack = []\n",
                "    \n",
                "    # Construct a monotone increasing sequence of digits\n",
                "    for digit in num:\n",
                "        while k and numStack and numStack[-1] > digit:\n",
                "            numStack.pop()\n",
                "            k -= 1\n",
                "    \n",
                "        numStack.append(digit)\n",
                "        print(numStack)\n",
                "    \n",
                "    # - Trunk the remaining K digits at the end\n",
                "    # - in the case k==0: return the entire list\n",
                "    finalStack = numStack[:-k] if k else numStack\n",
                "    \n",
                "    # trip the leading zeros\n",
                "    return \"\".join(finalStack).lstrip('0') or \"0\"\n",
                "\n",
                "removeKdigits(num = \"371999\", k = 2)"
            ]
        },
        {
            "cell_type": "code",
            "execution_count": 8,
            "metadata": {},
            "outputs": [
                {
                    "name": "stdout",
                    "output_type": "stream",
                    "text": [
                        "0b10000 -0b10000\n"
                    ]
                },
                {
                    "data": {
                        "text/plain": [
                            "16"
                        ]
                    },
                    "execution_count": 8,
                    "metadata": {},
                    "output_type": "execute_result"
                }
            ],
            "source": [
                "from sortedcontainers import SortedList\n",
                "\n",
                "type(SortedList([1, 2]))\n",
                "\n",
                "def lsb(i):\n",
                "    print(bin(i), bin(-i))\n",
                "    return i & -i\n"
            ]
        },
        {
            "cell_type": "code",
            "execution_count": 7,
            "metadata": {},
            "outputs": [
                {
                    "name": "stdout",
                    "output_type": "stream",
                    "text": [
                        "scratch.ipynb\n",
                        "os.stat_result(st_mode=33188, st_ino=36951387, st_dev=16777220, st_nlink=1, st_uid=501, st_gid=20, st_size=31157, st_atime=1645522131, st_mtime=1645685853, st_ctime=1645685853)\n"
                    ]
                },
                {
                    "data": {
                        "text/plain": [
                            "'/Users/huayu/hcrobot/yuhua_test/explore_leet/scratchpad/scratch.ipynb'"
                        ]
                    },
                    "execution_count": 7,
                    "metadata": {},
                    "output_type": "execute_result"
                }
            ],
            "source": [
                "import os\n",
                "import glob\n",
                "\n",
                "os.getcwd()\n",
                "file_list = glob.glob('*')\n",
                "print(file_list[0])\n",
                "metadata = os.stat(file_list[0])\n",
                "print(metadata)\n",
                "os.path.realpath(file_list[0])"
            ]
        }
    ],
    "metadata": {
        "interpreter": {
            "hash": "4cd7ab41f5fca4b9b44701077e38c5ffd31fe66a6cab21e0214b68d958d0e462"
        },
        "kernelspec": {
            "display_name": "Python 3.9.9 64-bit",
            "name": "python3"
        },
        "language_info": {
            "codemirror_mode": {
                "name": "ipython",
                "version": 3
            },
            "file_extension": ".py",
            "mimetype": "text/x-python",
            "name": "python",
            "nbconvert_exporter": "python",
            "pygments_lexer": "ipython3",
            "version": "3.9.10"
        },
        "orig_nbformat": 4
    },
    "nbformat": 4,
    "nbformat_minor": 2
}
