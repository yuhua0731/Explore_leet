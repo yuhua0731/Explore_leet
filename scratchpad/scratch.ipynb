{
    "cells": [
        {
            "cell_type": "code",
            "execution_count": 1,
            "metadata": {},
            "outputs": [
                {
                    "data": {
                        "text/plain": [
                            "[5, 6]"
                        ]
                    },
                    "execution_count": 1,
                    "metadata": {},
                    "output_type": "execute_result"
                }
            ],
            "source": [
                "from typing import List\n",
                "class Solution:\n",
                "    def findDisappearedNumbers(self, nums: List[int]) -> List[int]:\n",
                "        # without extra space and run in O(n) time\n",
                "        nums.sort()\n",
                "        last_match = 0\n",
                "        ans = list()\n",
                "        for i in nums:\n",
                "            if i > last_match: \n",
                "                for tmp in range(last_match + 1, i):\n",
                "                    ans.append(tmp)\n",
                "                last_match = i\n",
                "        return ans\n",
                "\n",
                "Solution().findDisappearedNumbers(nums = [4,3,2,7,8,2,3,1])\n",
                "\n",
                "\n"
            ]
        },
        {
            "cell_type": "code",
            "execution_count": null,
            "metadata": {},
            "outputs": [],
            "source": [
                "def factor(x, y) -> bool:\n",
                "    if x < y: x, y = y, x\n",
                "    while y > 1:\n",
                "        x, y = y, x % y\n",
                "        if y == 0: return True\n",
                "    return False\n",
                "\n",
                "factor(6, 9)"
            ]
        },
        {
            "cell_type": "code",
            "execution_count": 2,
            "metadata": {},
            "outputs": [
                {
                    "name": "stdout",
                    "output_type": "stream",
                    "text": [
                        "0 1\n",
                        "1 2\n"
                    ]
                }
            ],
            "source": [
                "value = [0, 1, 2]\n",
                "for i, j in zip(value, value[1:]):\n",
                "    print(i, j)\n",
                "\n",
                "ans = {1, 2}"
            ]
        },
        {
            "cell_type": "code",
            "execution_count": 1,
            "metadata": {},
            "outputs": [
                {
                    "name": "stdout",
                    "output_type": "stream",
                    "text": [
                        "no match\n"
                    ]
                }
            ],
            "source": [
                "a = 3\n",
                "match a:\n",
                "    case 1:\n",
                "        print(\"1\")\n",
                "    case 2:\n",
                "        print(\"2\")\n",
                "    case _:\n",
                "        print(\"no match\")\n",
                "        "
            ]
        },
        {
            "cell_type": "code",
            "execution_count": 2,
            "metadata": {},
            "outputs": [
                {
                    "name": "stdout",
                    "output_type": "stream",
                    "text": [
                        "6\n"
                    ]
                }
            ],
            "source": [
                "from typing import List\n",
                "\n",
                "def shortestPathBinaryMatrix(grid: List[List[int]]) -> int:\n",
                "    n = len(grid)\n",
                "    if grid[0][0] == 1 or grid[n - 1][n - 1] == 1: return -1\n",
                "    dir = [[0, 1], [0, -1], [1, 0], [-1, 0], [1, 1], [1, -1], [-1, 1], [-1, -1]]\n",
                "\n",
                "    def find_next(x, y):\n",
                "    \n",
                "        path = float('inf')\n",
                "        for i, j in dir:\n",
                "            x_, y_ = x + i, y + j\n",
                "            if n > x_ >= 0 <= y_ < n and grid[x_][y_] == 0:\n",
                "                grid[x_][y_] = 1\n",
                "                path = min(path, find_next(x_, y_))\n",
                "                grid[x_][y_] = 0\n",
                "        return path + 1\n",
                "    ans = find_next(0, 0)\n",
                "    return ans if ans < float('inf') else -1\n",
                "\n",
                "print(shortestPathBinaryMatrix([[0,0,0,1],[0,0,1,0],[0,1,0,0],[1,0,0,0]]))"
            ]
        },
        {
            "cell_type": "code",
            "execution_count": 2,
            "metadata": {},
            "outputs": [],
            "source": [
                "b = 0\n",
                "a = 'XO'[False]\n",
                "ans = {1, 2} \n",
                "ans |= {2, 3}\n",
                "ans = list()\n",
                "ans += (1, 2), (2, 3)\n",
                "\n"
            ]
        },
        {
            "cell_type": "code",
            "execution_count": 5,
            "metadata": {},
            "outputs": [
                {
                    "data": {
                        "text/plain": [
                            "4"
                        ]
                    },
                    "execution_count": 5,
                    "metadata": {},
                    "output_type": "execute_result"
                }
            ],
            "source": [
                "import math\n",
                "math.floor(math.log2(9))"
            ]
        },
        {
            "cell_type": "code",
            "execution_count": 17,
            "metadata": {},
            "outputs": [
                {
                    "name": "stdout",
                    "output_type": "stream",
                    "text": [
                        "t\n"
                    ]
                }
            ],
            "source": [
                "s = ''\n",
                "s += 't'\n",
                "print(s)"
            ]
        },
        {
            "cell_type": "code",
            "execution_count": 4,
            "metadata": {},
            "outputs": [],
            "source": [
                "str_list = ['', 's', 'hello']\n",
                "str_list = list(filter(None, str_list))\n",
                "str_list = ['', 's', 'hello']\n",
                "str_list = list(filter(bool, str_list))\n",
                "str_list = ['', 's', 'hello']\n",
                "str_list = list(filter(len, str_list))\n",
                "str_list = ['', 's', 'hello']\n",
                "str_list = list(filter(lambda item: item, str_list))"
            ]
        },
        {
            "cell_type": "code",
            "execution_count": 10,
            "metadata": {},
            "outputs": [
                {
                    "name": "stdout",
                    "output_type": "stream",
                    "text": [
                        "0 5\n",
                        "2\n"
                    ]
                }
            ],
            "source": [
                "import re\n",
                "temp = 'hello world hello'\n",
                "m = re.search('hello', temp)\n",
                "print(m.start(), m.end())\n",
                "text = 'No[b]'\n",
                "print(text.index('[b]'))"
            ]
        },
        {
            "cell_type": "code",
            "execution_count": 2,
            "metadata": {},
            "outputs": [],
            "source": [
                "pawn = 'a3'\n",
                "c, r = map(ord, pawn)"
            ]
        },
        {
            "cell_type": "code",
            "execution_count": 5,
            "metadata": {},
            "outputs": [
                {
                    "name": "stdout",
                    "output_type": "stream",
                    "text": [
                        "1.0916625\n"
                    ]
                }
            ],
            "source": [
                "s = '((0.71 - 0.47) / 2 + 0.71 * 3 - 0.16) / 0.8'\n",
                "s = '(0.16 + 0.13333 + 0.015 + 0.66 / 2 + 0.47 / 2) / 0.8'\n",
                "print(eval(s))"
            ]
        },
        {
            "cell_type": "code",
            "execution_count": 44,
            "metadata": {},
            "outputs": [
                {
                    "name": "stdout",
                    "output_type": "stream",
                    "text": [
                        "2021-12-29T10:20:00.238343+08:00 state is 1\n",
                        "1\n",
                        "1 1\n",
                        "$_1\n"
                    ]
                }
            ],
            "source": [
                "from string import Template\n",
                "from datetime import datetime, timezone\n",
                "s = Template(f'{datetime.now(timezone.utc).astimezone().isoformat()} state is $msg')\n",
                "print(s.substitute(msg=f'{1}'))\n",
                "\n",
                "print(Template('$_1').substitute(_1=1))\n",
                "print(Template('$_ 1').substitute(_=1))\n",
                "print(Template('$_1').safe_substitute(_=1))"
            ]
        },
        {
            "cell_type": "code",
            "execution_count": 19,
            "metadata": {},
            "outputs": [
                {
                    "name": "stdout",
                    "output_type": "stream",
                    "text": [
                        "[11, 22]\n",
                        "1hello\n"
                    ]
                }
            ],
            "source": [
                "d = {1: 11, 2: 22}\n",
                "print(list(map(d.get, d.keys())))\n",
                "print('hello'.capitalize())"
            ]
        },
        {
            "cell_type": "code",
            "execution_count": 23,
            "metadata": {},
            "outputs": [
                {
                    "name": "stdout",
                    "output_type": "stream",
                    "text": [
                        "-1\n"
                    ]
                }
            ],
            "source": [
                "text = 'No[b]'\n",
                "print(text.index('[b]'))\n",
                "print(text.find('[b]'))"
            ]
        },
        {
            "cell_type": "code",
            "execution_count": null,
            "metadata": {},
            "outputs": [],
            "source": [
                "import re\n",
                "s = 'password12345'\n",
                "print(re.search('password', s.lower()) == None)"
            ]
        },
        {
            "cell_type": "code",
            "execution_count": 29,
            "metadata": {},
            "outputs": [
                {
                    "name": "stdout",
                    "output_type": "stream",
                    "text": [
                        "False\n"
                    ]
                }
            ],
            "source": [
                "def sort_by_ext(files):\n",
                "    skey = lambda s: (bool(s[:(i:=s.rfind('.'))]), s[i+1:], s[:i])\n",
                "    return sorted(files,key=skey)\n",
                "s = '.txt'\n",
                "print(bool(s[:(i:=s.rfind('.'))]))"
            ]
        },
        {
            "cell_type": "code",
            "execution_count": 36,
            "metadata": {},
            "outputs": [
                {
                    "name": "stdout",
                    "output_type": "stream",
                    "text": [
                        "[2, 3, 1]\n"
                    ]
                }
            ],
            "source": [
                "c = [1, 2, 3]\n",
                "print(c[1:] + c[:1])"
            ]
        },
        {
            "cell_type": "code",
            "execution_count": 41,
            "metadata": {},
            "outputs": [
                {
                    "name": "stdout",
                    "output_type": "stream",
                    "text": [
                        "1\n",
                        "0\n"
                    ]
                }
            ],
            "source": [
                "class test:\n",
                "    def __init__(self):\n",
                "        self.a = 0\n",
                "\n",
                "temp = [test()]\n",
                "ele = temp[0]\n",
                "ele.a += 1\n",
                "\n",
                "ele = temp[0]\n",
                "print(ele.a)\n",
                "\n",
                "temp = [0]\n",
                "ele = temp[0]\n",
                "ele += 1\n",
                "print(temp[0])"
            ]
        }
    ],
    "metadata": {
        "interpreter": {
            "hash": "4cd7ab41f5fca4b9b44701077e38c5ffd31fe66a6cab21e0214b68d958d0e462"
        },
        "kernelspec": {
            "display_name": "Python 3.9.9 64-bit",
            "name": "python3"
        },
        "language_info": {
            "codemirror_mode": {
                "name": "ipython",
                "version": 3
            },
            "file_extension": ".py",
            "mimetype": "text/x-python",
            "name": "python",
            "nbconvert_exporter": "python",
            "pygments_lexer": "ipython3",
            "version": "3.9.9"
        },
        "orig_nbformat": 4
    },
    "nbformat": 4,
    "nbformat_minor": 2
}
