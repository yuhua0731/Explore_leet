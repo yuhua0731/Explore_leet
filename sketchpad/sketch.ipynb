{
    "cells": [
        {
            "cell_type": "code",
            "execution_count": 1,
            "metadata": {},
            "outputs": [
                {
                    "data": {
                        "text/plain": [
                            "[5, 6]"
                        ]
                    },
                    "execution_count": 1,
                    "metadata": {},
                    "output_type": "execute_result"
                }
            ],
            "source": [
                "from typing import List\n",
                "class Solution:\n",
                "    def findDisappearedNumbers(self, nums: List[int]) -> List[int]:\n",
                "        # without extra space and run in O(n) time\n",
                "        nums.sort()\n",
                "        last_match = 0\n",
                "        ans = list()\n",
                "        for i in nums:\n",
                "            if i > last_match: \n",
                "                for tmp in range(last_match + 1, i):\n",
                "                    ans.append(tmp)\n",
                "                last_match = i\n",
                "        return ans\n",
                "\n",
                "Solution().findDisappearedNumbers(nums = [4,3,2,7,8,2,3,1])\n",
                "\n",
                "\n"
            ]
        },
        {
            "cell_type": "code",
            "execution_count": 1,
            "metadata": {},
            "outputs": [
                {
                    "name": "stdout",
                    "output_type": "stream",
                    "text": [
                        "[0, 1, 1, 1, 0, 0, 0]\n"
                    ]
                }
            ],
            "source": [
                "status = [0] * 7\n",
                "a = [1, 1, 1]\n",
                "status[1:4] = a\n",
                "print(status)"
            ]
        },
        {
            "cell_type": "code",
            "execution_count": null,
            "metadata": {},
            "outputs": [],
            "source": [
                "def factor(x, y) -> bool:\n",
                "    if x < y: x, y = y, x\n",
                "    while y > 1:\n",
                "        x, y = y, x % y\n",
                "        if y == 0: return True\n",
                "    return False\n",
                "\n",
                "factor(6, 9)"
            ]
        },
        {
            "cell_type": "code",
            "execution_count": 2,
            "metadata": {},
            "outputs": [
                {
                    "name": "stdout",
                    "output_type": "stream",
                    "text": [
                        "0 1\n",
                        "1 2\n"
                    ]
                }
            ],
            "source": [
                "value = [0, 1, 2]\n",
                "for i, j in zip(value, value[1:]):\n",
                "    print(i, j)\n",
                "\n",
                "ans = {1, 2}"
            ]
        },
        {
            "cell_type": "code",
            "execution_count": 1,
            "metadata": {},
            "outputs": [
                {
                    "name": "stdout",
                    "output_type": "stream",
                    "text": [
                        "no match\n"
                    ]
                }
            ],
            "source": [
                "a = 3\n",
                "match a:\n",
                "    case 1:\n",
                "        print(\"1\")\n",
                "    case 2:\n",
                "        print(\"2\")\n",
                "    case _:\n",
                "        print(\"no match\")\n",
                "        "
            ]
        },
        {
            "cell_type": "code",
            "execution_count": 2,
            "metadata": {},
            "outputs": [
                {
                    "name": "stdout",
                    "output_type": "stream",
                    "text": [
                        "6\n"
                    ]
                }
            ],
            "source": [
                "from typing import List\n",
                "\n",
                "def shortestPathBinaryMatrix(grid: List[List[int]]) -> int:\n",
                "    n = len(grid)\n",
                "    if grid[0][0] == 1 or grid[n - 1][n - 1] == 1: return -1\n",
                "    dir = [[0, 1], [0, -1], [1, 0], [-1, 0], [1, 1], [1, -1], [-1, 1], [-1, -1]]\n",
                "\n",
                "    def find_next(x, y):\n",
                "    \n",
                "        path = float('inf')\n",
                "        for i, j in dir:\n",
                "            x_, y_ = x + i, y + j\n",
                "            if n > x_ >= 0 <= y_ < n and grid[x_][y_] == 0:\n",
                "                grid[x_][y_] = 1\n",
                "                path = min(path, find_next(x_, y_))\n",
                "                grid[x_][y_] = 0\n",
                "        return path + 1\n",
                "    ans = find_next(0, 0)\n",
                "    return ans if ans < float('inf') else -1\n",
                "\n",
                "print(shortestPathBinaryMatrix([[0,0,0,1],[0,0,1,0],[0,1,0,0],[1,0,0,0]]))"
            ]
        },
        {
            "cell_type": "code",
            "execution_count": 2,
            "metadata": {},
            "outputs": [],
            "source": [
                "b = 0\n",
                "a = 'XO'[False]\n",
                "ans = {1, 2} \n",
                "ans |= {2, 3}\n",
                "ans = list()\n",
                "ans += (1, 2), (2, 3)\n",
                "\n"
            ]
        },
        {
            "cell_type": "code",
            "execution_count": 5,
            "metadata": {},
            "outputs": [
                {
                    "data": {
                        "text/plain": [
                            "4"
                        ]
                    },
                    "execution_count": 5,
                    "metadata": {},
                    "output_type": "execute_result"
                }
            ],
            "source": [
                "import math\n",
                "math.floor(math.log2(9))"
            ]
        },
        {
            "cell_type": "code",
            "execution_count": 17,
            "metadata": {},
            "outputs": [
                {
                    "name": "stdout",
                    "output_type": "stream",
                    "text": [
                        "t\n"
                    ]
                }
            ],
            "source": [
                "s = ''\n",
                "s += 't'\n",
                "print(s)"
            ]
        },
        {
            "cell_type": "code",
            "execution_count": 4,
            "metadata": {},
            "outputs": [],
            "source": [
                "str_list = ['', 's', 'hello']\n",
                "str_list = list(filter(None, str_list))\n",
                "str_list = ['', 's', 'hello']\n",
                "str_list = list(filter(bool, str_list))\n",
                "str_list = ['', 's', 'hello']\n",
                "str_list = list(filter(len, str_list))\n",
                "str_list = ['', 's', 'hello']\n",
                "str_list = list(filter(lambda item: item, str_list))"
            ]
        },
        {
            "cell_type": "code",
            "execution_count": 10,
            "metadata": {},
            "outputs": [
                {
                    "name": "stdout",
                    "output_type": "stream",
                    "text": [
                        "0 5\n",
                        "2\n"
                    ]
                }
            ],
            "source": [
                "import re\n",
                "temp = 'hello world hello'\n",
                "m = re.search('hello', temp)\n",
                "print(m.start(), m.end())\n",
                "text = 'No[b]'\n",
                "print(text.index('[b]'))"
            ]
        },
        {
            "cell_type": "code",
            "execution_count": 2,
            "metadata": {},
            "outputs": [],
            "source": [
                "pawn = 'a3'\n",
                "c, r = map(ord, pawn)"
            ]
        },
        {
            "cell_type": "code",
            "execution_count": 5,
            "metadata": {},
            "outputs": [
                {
                    "name": "stdout",
                    "output_type": "stream",
                    "text": [
                        "1.0916625\n"
                    ]
                }
            ],
            "source": [
                "s = '((0.71 - 0.47) / 2 + 0.71 * 3 - 0.16) / 0.8'\n",
                "s = '(0.16 + 0.13333 + 0.015 + 0.66 / 2 + 0.47 / 2) / 0.8'\n",
                "print(eval(s))"
            ]
        },
        {
            "cell_type": "code",
            "execution_count": 44,
            "metadata": {},
            "outputs": [
                {
                    "name": "stdout",
                    "output_type": "stream",
                    "text": [
                        "2021-12-29T10:20:00.238343+08:00 state is 1\n",
                        "1\n",
                        "1 1\n",
                        "$_1\n"
                    ]
                }
            ],
            "source": [
                "from string import Template\n",
                "from datetime import datetime, timezone\n",
                "s = Template(f'{datetime.now(timezone.utc).astimezone().isoformat()} state is $msg')\n",
                "print(s.substitute(msg=f'{1}'))\n",
                "\n",
                "print(Template('$_1').substitute(_1=1))\n",
                "print(Template('$_ 1').substitute(_=1))\n",
                "print(Template('$_1').safe_substitute(_=1))"
            ]
        },
        {
            "cell_type": "code",
            "execution_count": 19,
            "metadata": {},
            "outputs": [
                {
                    "name": "stdout",
                    "output_type": "stream",
                    "text": [
                        "[11, 22]\n",
                        "1hello\n"
                    ]
                }
            ],
            "source": [
                "d = {1: 11, 2: 22}\n",
                "print(list(map(d.get, d.keys())))\n",
                "print('hello'.capitalize())"
            ]
        },
        {
            "cell_type": "code",
            "execution_count": 23,
            "metadata": {},
            "outputs": [
                {
                    "name": "stdout",
                    "output_type": "stream",
                    "text": [
                        "-1\n"
                    ]
                }
            ],
            "source": [
                "text = 'No[b]'\n",
                "print(text.index('[b]'))\n",
                "print(text.find('[b]'))"
            ]
        },
        {
            "cell_type": "code",
            "execution_count": null,
            "metadata": {},
            "outputs": [],
            "source": [
                "import re\n",
                "s = 'password12345'\n",
                "print(re.search('password', s.lower()) == None)"
            ]
        },
        {
            "cell_type": "code",
            "execution_count": 29,
            "metadata": {},
            "outputs": [
                {
                    "name": "stdout",
                    "output_type": "stream",
                    "text": [
                        "False\n"
                    ]
                }
            ],
            "source": [
                "def sort_by_ext(files):\n",
                "    skey = lambda s: (bool(s[:(i:=s.rfind('.'))]), s[i+1:], s[:i])\n",
                "    return sorted(files,key=skey)\n",
                "s = '.txt'\n",
                "print(bool(s[:(i:=s.rfind('.'))]))"
            ]
        },
        {
            "cell_type": "code",
            "execution_count": 36,
            "metadata": {},
            "outputs": [
                {
                    "name": "stdout",
                    "output_type": "stream",
                    "text": [
                        "[2, 3, 1]\n"
                    ]
                }
            ],
            "source": [
                "c = [1, 2, 3]\n",
                "print(c[1:] + c[:1])"
            ]
        },
        {
            "cell_type": "code",
            "execution_count": 41,
            "metadata": {},
            "outputs": [
                {
                    "name": "stdout",
                    "output_type": "stream",
                    "text": [
                        "1\n",
                        "0\n"
                    ]
                }
            ],
            "source": [
                "class test:\n",
                "    def __init__(self):\n",
                "        self.a = 0\n",
                "\n",
                "temp = [test()]\n",
                "ele = temp[0]\n",
                "ele.a += 1\n",
                "\n",
                "ele = temp[0]\n",
                "print(ele.a)\n",
                "\n",
                "temp = [0]\n",
                "ele = temp[0]\n",
                "ele += 1\n",
                "print(temp[0])"
            ]
        },
        {
            "cell_type": "code",
            "execution_count": 6,
            "metadata": {},
            "outputs": [
                {
                    "name": "stdout",
                    "output_type": "stream",
                    "text": [
                        "111\n",
                        "[[2, 4, 0], [3, 2, 1]]\n"
                    ]
                }
            ],
            "source": [
                "print('1' * 3)\n",
                "a = [[3,2],[2,4]]\n",
                "print([[task[0], task[1], index] for index, task in enumerate(sorted(a))])"
            ]
        },
        {
            "cell_type": "code",
            "execution_count": 17,
            "metadata": {},
            "outputs": [
                {
                    "name": "stdout",
                    "output_type": "stream",
                    "text": [
                        "<class 'bool'>\n",
                        "True\n"
                    ]
                }
            ],
            "source": [
                "class Warrior:\n",
                "    def __init__(self, attack = 5):\n",
                "        self.health = 50\n",
                "        self.attack = attack\n",
                "    \n",
                "    @property\n",
                "    def is_alive_prop(self):\n",
                "        return self.health > 0\n",
                "    \n",
                "    def is_alive_func(self):\n",
                "      \treturn self.health > 0\n",
                "\n",
                "if __name__ == '__main__':\n",
                "    chuck = Warrior()\n",
                "    print(type(chuck.is_alive_prop))\n",
                "    if chuck.is_alive_func == True: print('1')\n",
                "    print(chuck.is_alive_func())"
            ]
        },
        {
            "cell_type": "code",
            "execution_count": 20,
            "metadata": {},
            "outputs": [
                {
                    "name": "stdout",
                    "output_type": "stream",
                    "text": [
                        "1\n",
                        "0\n",
                        "0\n"
                    ]
                }
            ],
            "source": [
                "from functools import cache\n",
                "\n",
                "@cache\n",
                "def test(i):\n",
                "    print(i)\n",
                "    return 0\n",
                "print(test(1))\n",
                "print(test(1))"
            ]
        },
        {
            "cell_type": "code",
            "execution_count": 11,
            "metadata": {},
            "outputs": [
                {
                    "name": "stdout",
                    "output_type": "stream",
                    "text": [
                        "49\n",
                        "64\n",
                        "81\n",
                        "100\n",
                        "49\n",
                        "64\n",
                        "144\n",
                        "100\n"
                    ]
                }
            ],
            "source": [
                "def func_yield(n):\n",
                "    while True:\n",
                "        yield n ** 2\n",
                "        n += 1\n",
                "\n",
                "yield_return = func_yield(7)\n",
                "while True:\n",
                "    curr = next(yield_return)\n",
                "    if curr > 100: break\n",
                "    print(curr)\n",
                "\n",
                "yield_return_alter = func_yield(7) # <class 'generator'>\n",
                "for i in yield_return_alter:\n",
                "    if i > 80: break\n",
                "    print(i)\n",
                "print(next(yield_return))\n",
                "print(next(yield_return_alter))"
            ]
        },
        {
            "cell_type": "code",
            "execution_count": 13,
            "metadata": {},
            "outputs": [
                {
                    "name": "stdout",
                    "output_type": "stream",
                    "text": [
                        "/usr/local/Cellar/python@3.9/3.9.9/Frameworks/Python.framework/Versions/3.9/lib/python3.9/re.py\n",
                        "Try to apply the pattern at the start of the string, returning\n",
                        "    a Match object, or None if no match was found.\n"
                    ]
                }
            ],
            "source": [
                "import re\n",
                "print(re.__file__)\n",
                "print(re.match.__doc__)"
            ]
        },
        {
            "cell_type": "code",
            "execution_count": 4,
            "metadata": {},
            "outputs": [
                {
                    "name": "stdout",
                    "output_type": "stream",
                    "text": [
                        "[2, 5, 10, 20]\n",
                        "[0, 2, 5, 10, 20]\n",
                        "[5, 7, 10, 15, 25]\n"
                    ]
                }
            ],
            "source": [
                "from itertools import accumulate\n",
                "\n",
                "row = [2, 3, 5, 10]\n",
                "print(list(accumulate(row)))\n",
                "print(list(accumulate(row, initial = 0)))\n",
                "print(list(accumulate(row, initial = 5)))"
            ]
        },
        {
            "cell_type": "code",
            "execution_count": 26,
            "metadata": {},
            "outputs": [
                {
                    "data": {
                        "text/plain": [
                            "'00'"
                        ]
                    },
                    "execution_count": 26,
                    "metadata": {},
                    "output_type": "execute_result"
                }
            ],
            "source": [
                "import collections\n",
                "\n",
                "def originalDigits(s: str) -> str:\n",
                "    cnt = collections.Counter(s)\n",
                "    digit = ['zero', 'one', 'two', 'three', 'four', 'five', 'six', 'seven', 'eight', 'nine']\n",
                "    def extract(cnt, idx):\n",
                "        ans = ''\n",
                "        if all(i == 0 for i in cnt.values()): return (True, ans)\n",
                "        if idx == 10: return (False, '')\n",
                "        \n",
                "        d_cnt = collections.Counter(digit[idx])\n",
                "        while True:\n",
                "            for key, value in d_cnt.items():\n",
                "                cnt[key] -= value\n",
                "            ans += str(idx)\n",
                "            if min(cnt.values()) >= 0:\n",
                "                res = extract(cnt.copy(), idx + 1)\n",
                "                if res[0]: return (True, ans + res[1])\n",
                "            else:\n",
                "                for key, value in d_cnt.items():\n",
                "                    cnt[key] += value\n",
                "                ans = ans[:-1]\n",
                "                res = extract(cnt.copy(), idx + 1)\n",
                "                if res[0]: return (True, ans + res[1])\n",
                "                else: return (False, '')\n",
                "    \n",
                "    return extract(cnt, 0)[1]\n",
                "\n",
                "originalDigits(s = \"zerozero\")"
            ]
        },
        {
            "cell_type": "code",
            "execution_count": 8,
            "metadata": {},
            "outputs": [
                {
                    "name": "stdout",
                    "output_type": "stream",
                    "text": [
                        "0 1\n",
                        "3 2\n",
                        "2 3\n",
                        "4 4\n",
                        "1 5\n"
                    ]
                }
            ],
            "source": [
                "import math\n",
                "math.tan(math.pi / 4)\n",
                "\n",
                "score = [10,3,8,9,4]\n",
                "for rank, (_, index) in enumerate(sorted([[s, idx] for idx, s in enumerate(score)], key=lambda x: -x[0])):\n",
                "    print(index, rank + 1)"
            ]
        },
        {
            "cell_type": "code",
            "execution_count": 13,
            "metadata": {},
            "outputs": [
                {
                    "data": {
                        "text/plain": [
                            "'1010'"
                        ]
                    },
                    "execution_count": 13,
                    "metadata": {},
                    "output_type": "execute_result"
                }
            ],
            "source": [
                "'{0:08b}'.format(-6)\n",
                "bin((1 << 4) - 6)[2:]"
            ]
        },
        {
            "cell_type": "code",
            "execution_count": 7,
            "metadata": {},
            "outputs": [
                {
                    "data": {
                        "text/plain": [
                            "4.0000327779500005"
                        ]
                    },
                    "execution_count": 7,
                    "metadata": {},
                    "output_type": "execute_result"
                }
            ],
            "source": [
                "s = '10000 * 130 * 2 / 13 / 17'\n",
                "s = '1000000 / 10000 / 4 * 50.93 * 3.1415926 / 1000'\n",
                "eval(s)"
            ]
        },
        {
            "cell_type": "code",
            "execution_count": 10,
            "metadata": {},
            "outputs": [
                {
                    "data": {
                        "text/plain": [
                            "'11111111111111111111111111111111'"
                        ]
                    },
                    "execution_count": 10,
                    "metadata": {},
                    "output_type": "execute_result"
                }
            ],
            "source": [
                "n = (1 << 32) - 1\n",
                "bin(n)[2:]\n",
                "# bin(2147483651)[2:]"
            ]
        },
        {
            "cell_type": "code",
            "execution_count": 5,
            "metadata": {},
            "outputs": [
                {
                    "name": "stdout",
                    "output_type": "stream",
                    "text": [
                        "012345678912345678912345678912"
                    ]
                }
            ],
            "source": [
                "for i in range(30):\n",
                "    while i > 9:\n",
                "        i = eval('+'.join(list(str(i))))\n",
                "    print(i, end='')"
            ]
        },
        {
            "cell_type": "code",
            "execution_count": 2,
            "metadata": {},
            "outputs": [
                {
                    "name": "stdout",
                    "output_type": "stream",
                    "text": [
                        "[2, 4, 8, 5]\n"
                    ]
                }
            ],
            "source": [
                "import heapq\n",
                "\n",
                "pq = []\n",
                "insert = [4,5,8,2]\n",
                "for i in insert:\n",
                "    heapq.heappush(pq, i)\n",
                "print(pq)"
            ]
        },
        {
            "cell_type": "code",
            "execution_count": 4,
            "metadata": {},
            "outputs": [
                {
                    "data": {
                        "text/plain": [
                            "[('1', 3)]"
                        ]
                    },
                    "execution_count": 4,
                    "metadata": {},
                    "output_type": "execute_result"
                }
            ],
            "source": [
                "import collections\n",
                "\n",
                "collections.Counter('111').most_common(2)"
            ]
        },
        {
            "cell_type": "code",
            "execution_count": 1,
            "metadata": {},
            "outputs": [
                {
                    "data": {
                        "text/plain": [
                            "[[7]]"
                        ]
                    },
                    "execution_count": 1,
                    "metadata": {},
                    "output_type": "execute_result"
                }
            ],
            "source": [
                "from typing import List\n",
                "\n",
                "def combinationSum(candidates: List[int], target: int) -> List[List[int]]:\n",
                "    # dfs\n",
                "    ans = []\n",
                "    n = len(candidates)\n",
                "    def extend(idx, pre, remain):\n",
                "        if remain == 0: \n",
                "            ans.append(pre)\n",
                "            return\n",
                "        if remain < 0 or idx == n: return\n",
                "        extend(idx, pre + [candidates[idx]], remain - candidates[idx])\n",
                "        extend(idx + 1, pre, remain)\n",
                "\n",
                "    extend(0, [], target)\n",
                "    return ans\n",
                "\n",
                "combinationSum(candidates = [7], target = 7)"
            ]
        },
        {
            "cell_type": "code",
            "execution_count": 8,
            "metadata": {},
            "outputs": [
                {
                    "name": "stdout",
                    "output_type": "stream",
                    "text": [
                        "['3']\n",
                        "['3', '7']\n",
                        "['1']\n",
                        "['1', '9']\n",
                        "['1', '9', '9']\n",
                        "['1', '9', '9', '9']\n"
                    ]
                },
                {
                    "data": {
                        "text/plain": [
                            "'1999'"
                        ]
                    },
                    "execution_count": 8,
                    "metadata": {},
                    "output_type": "execute_result"
                }
            ],
            "source": [
                "def removeKdigits(num: str, k: int) -> str:\n",
                "    numStack = []\n",
                "    \n",
                "    # Construct a monotone increasing sequence of digits\n",
                "    for digit in num:\n",
                "        while k and numStack and numStack[-1] > digit:\n",
                "            numStack.pop()\n",
                "            k -= 1\n",
                "    \n",
                "        numStack.append(digit)\n",
                "        print(numStack)\n",
                "    \n",
                "    # - Trunk the remaining K digits at the end\n",
                "    # - in the case k==0: return the entire list\n",
                "    finalStack = numStack[:-k] if k else numStack\n",
                "    \n",
                "    # trip the leading zeros\n",
                "    return \"\".join(finalStack).lstrip('0') or \"0\"\n",
                "\n",
                "removeKdigits(num = \"371999\", k = 2)"
            ]
        },
        {
            "cell_type": "code",
            "execution_count": 8,
            "metadata": {},
            "outputs": [
                {
                    "name": "stdout",
                    "output_type": "stream",
                    "text": [
                        "0b10000 -0b10000\n"
                    ]
                },
                {
                    "data": {
                        "text/plain": [
                            "16"
                        ]
                    },
                    "execution_count": 8,
                    "metadata": {},
                    "output_type": "execute_result"
                }
            ],
            "source": [
                "from sortedcontainers import SortedList\n",
                "\n",
                "type(SortedList([1, 2]))\n",
                "\n",
                "def lsb(i):\n",
                "    print(bin(i), bin(-i))\n",
                "    return i & -i\n"
            ]
        },
        {
            "cell_type": "code",
            "execution_count": 7,
            "metadata": {},
            "outputs": [
                {
                    "name": "stdout",
                    "output_type": "stream",
                    "text": [
                        "scratch.ipynb\n",
                        "os.stat_result(st_mode=33188, st_ino=36951387, st_dev=16777220, st_nlink=1, st_uid=501, st_gid=20, st_size=31157, st_atime=1645522131, st_mtime=1645685853, st_ctime=1645685853)\n"
                    ]
                },
                {
                    "data": {
                        "text/plain": [
                            "'/Users/huayu/hcrobot/yuhua_test/explore_leet/scratchpad/scratch.ipynb'"
                        ]
                    },
                    "execution_count": 7,
                    "metadata": {},
                    "output_type": "execute_result"
                }
            ],
            "source": [
                "import os\n",
                "import glob\n",
                "\n",
                "os.getcwd()\n",
                "file_list = glob.glob('*')\n",
                "print(file_list[0])\n",
                "metadata = os.stat(file_list[0])\n",
                "print(metadata)\n",
                "os.path.realpath(file_list[0])"
            ]
        },
        {
            "cell_type": "code",
            "execution_count": 12,
            "metadata": {},
            "outputs": [
                {
                    "name": "stdout",
                    "output_type": "stream",
                    "text": [
                        "17\n",
                        "17\n"
                    ]
                }
            ],
            "source": [
                "import math\n",
                "print(math.ceil(math.log2(10 ** 5 + 1)))\n",
                "\n",
                "f, r, changeTime = 1, 2, 10 ** 5\n",
                "total = 0\n",
                "cnt = 0\n",
                "while True:\n",
                "    cnt += 1\n",
                "    total += f\n",
                "    f *= r\n",
                "    # if the minimum cost is greater than changing a new tire, we stop looping\n",
                "    if total > changeTime + 1: break\n",
                "print(cnt)"
            ]
        },
        {
            "cell_type": "code",
            "execution_count": 9,
            "metadata": {},
            "outputs": [
                {
                    "name": "stdout",
                    "output_type": "stream",
                    "text": [
                        "[9.5, 9.5]\n",
                        "[4.25, 8.5, 4.25]\n",
                        "[1.625, 5.375, 5.375, 1.625]\n",
                        "[0.3125, 2.5, 4.375, 2.5, 0.3125]\n",
                        "[0.0, 0.75, 2.4375, 2.4375, 0.75, 0.0]\n",
                        "[0.0, 0.0, 0.71875, 1.4375, 0.71875, 0.0, 0.0]\n"
                    ]
                }
            ],
            "source": [
                "\n",
                "poured, query_glass, query_row = 20, 2, 6\n",
                "res = [poured] # top level\n",
                "for row in range(1, query_row + 1):\n",
                "    # append two empty glasses at both sides\n",
                "    res = [0] + res + [0]\n",
                "    # level i has i + 1 glasses, indexed from 0 to i\n",
                "    \"\"\"\n",
                "    level 2         0   1   2   3   4\n",
                "    with extra two glasses at both sides\n",
                "    level 3           0   1   2   3\n",
                "    dp[i + 1][j] = dp[i][j]'s half + dp[i][j + 1]'s half\n",
                "    \"\"\"\n",
                "    res = [max(res[i] - 1, 0) / 2.0 + max(res[i + 1] - 1, 0) / 2.0 for i in range(row + 1)]"
            ]
        },
        {
            "cell_type": "code",
            "execution_count": 13,
            "metadata": {},
            "outputs": [
                {
                    "name": "stdout",
                    "output_type": "stream",
                    "text": [
                        "4.999999995e+17\n"
                    ]
                },
                {
                    "data": {
                        "text/plain": [
                            "500000000500000000"
                        ]
                    },
                    "execution_count": 13,
                    "metadata": {},
                    "output_type": "execute_result"
                }
            ],
            "source": [
                "def minimalKSum(nums, k) -> int:\n",
                "    nums.append(10 ** 10)\n",
                "    nums.sort()\n",
                "    pre = 0\n",
                "    ans = 0\n",
                "    for i in nums:\n",
                "        if i >= pre + 1:\n",
                "            ran = i - pre - 1\n",
                "            if ran >= k:\n",
                "                if k == 1: ans += pre + 1\n",
                "                else:\n",
                "                    # sum up pre + 1 to pre + k\n",
                "                    ans += (pre + 1 + pre + k) * k / 2\n",
                "                break\n",
                "            else:\n",
                "                ans += (pre + 1 + i - 1) * (i - 1 - pre) / 2\n",
                "                k -= i - 1 - pre\n",
                "            print(ans)\n",
                "        pre = i\n",
                "    return int(ans)\n",
                "minimalKSum([1000000000], 1000000000)"
            ]
        },
        {
            "cell_type": "code",
            "execution_count": 15,
            "metadata": {},
            "outputs": [
                {
                    "name": "stdout",
                    "output_type": "stream",
                    "text": [
                        "[4, 7, 6]\n"
                    ]
                }
            ],
            "source": [
                "import math \n",
                "A = [2, 4, 7, 6]\n",
                "res = []\n",
                "for a in A:\n",
                "    while True:\n",
                "        x = math.gcd(res[-1] if res else 1, a)\n",
                "        if x == 1: break # co-prime\n",
                "        a *= res.pop() // x\n",
                "    res.append(a)\n",
                "print(res)"
            ]
        },
        {
            "cell_type": "code",
            "execution_count": 4,
            "metadata": {},
            "outputs": [
                {
                    "data": {
                        "text/plain": [
                            "'abcde'"
                        ]
                    },
                    "execution_count": 4,
                    "metadata": {},
                    "output_type": "execute_result"
                }
            ],
            "source": [
                "single = 12345\n",
                "''.join(list(map(lambda x: chr(ord(x) - ord('1') + ord('a')), str(single))))"
            ]
        },
        {
            "cell_type": "code",
            "execution_count": 2,
            "metadata": {},
            "outputs": [
                {
                    "name": "stdout",
                    "output_type": "stream",
                    "text": [
                        "True\n",
                        "False\n"
                    ]
                }
            ],
            "source": [
                "red = True\n",
                "print(red)\n",
                "print(not red)"
            ]
        },
        {
            "cell_type": "code",
            "execution_count": 5,
            "metadata": {},
            "outputs": [
                {
                    "data": {
                        "text/plain": [
                            "-2"
                        ]
                    },
                    "execution_count": 5,
                    "metadata": {},
                    "output_type": "execute_result"
                }
            ],
            "source": [
                "\n",
                "N=1000000;\n",
                "p1=79.5+randn(N,1)*2.5;\n",
                "p2=77.2+randn(N,1)*2.9; \n",
                "cnt=0;\n",
                "for i=1:N\n",
                "    if(p1(i)<p2(i))\n",
                "        cnt=cnt+1;\n",
                "    end\n",
                "end\n",
                "printf('\\n%.1f%% of the trials had p2>p1\\n',100*cnt/N)\n",
                "\n",
                "nrmult=4;\n",
                "N=1000000;\n",
                "p1=79.5+randn(N,1)*2.8/sqrt(nrmult);\n",
                "p2=77.2+randn(N,1)*2.9/sqrt(nrmult); \n",
                "cnt=0;\n",
                "for i=1:N\n",
                "    if(p1(i)<p2(i)) \n",
                "        cnt=cnt+1;\n",
                "    end\n",
                "end\n",
                "printf('\\n%.1f%% of the trials had p2>p1\\n',100*cnt/N)"
            ]
        },
        {
            "cell_type": "code",
            "execution_count": 6,
            "metadata": {},
            "outputs": [
                {
                    "name": "stdout",
                    "output_type": "stream",
                    "text": [
                        "28.4% of the trials had p2 > p1\n"
                    ]
                }
            ],
            "source": [
                "import numpy as np\n",
                " \n",
                "N = 1000000\n",
                "p1 = 79.5 + np.random.randn(N, 1) * 2.8\n",
                "p2 = 77.2 + np.random.randn(N, 1) * 2.9\n",
                "cnt = 0\n",
                "for i, j in zip(p1, p2):\n",
                "    if i < j: cnt += 1\n",
                "print('{:.1f}% of the trials had p2 > p1'.format(100 * cnt / N))"
            ]
        },
        {
            "cell_type": "code",
            "execution_count": 9,
            "metadata": {},
            "outputs": [],
            "source": [
                "global ret\n",
                "ret = float('inf')\n",
                "\n",
                "@functools.cache\n",
                "def sub(remain, curr, size):\n",
                "    global ret\n",
                "    if remain == 0:\n",
                "        ret = min(ret, size)\n",
                "    if remain < curr: return\n",
                "    cnt = 0\n",
                "    while remain >= cnt * curr:\n",
                "        sub(remain - cnt * curr, curr + 10, size + cnt)\n",
                "        cnt += 1\n",
                "\n",
                "sub(9, 9, 0)"
            ]
        },
        {
            "cell_type": "code",
            "execution_count": 6,
            "metadata": {},
            "outputs": [
                {
                    "name": "stdout",
                    "output_type": "stream",
                    "text": [
                        "0\n"
                    ]
                }
            ],
            "source": [
                "class ENUM_SHUTTLE_STATE(Enum):\n",
                "    SHUTTLE_STATE_BOOTUP = {'value': 0x00, 'chinese': 'shangdian', 'qiwangzhi': }\n",
                "    SHUTTLE_STATE_STANDBY = 0x01\n",
                "    SHUTTLE_STATE_ONLINE = 0x02\n",
                "    SHUTTLE_STATE_CONFIG_ERROR = {'value': 0x07, 'chinese': '机器人配置错误'}                          # 机器人配置错误\n",
                "    SHUTTLE_STATE_FAULT = 0x08                                 # 机器人处于错误状态\n",
                "    SHUTTLE_STATE_LOW_BOOTUP_VOLTAGE = 0x09                    # 机器人启动电压低\n",
                "    SHUTTLE_STATE_BELT_INIT_ERROR = 0x0A                       # 链条电机伺服初始化错误\n",
                "    SHUTTLE_STATE_MAIN_SERVO_INIT_ERROR = 0x0B                 # 机器人主电机伺服初始化错误\n",
                "    SHUTTLE_STATE_MAIN_SERVO_BRAKE_FEEDBACK_ERROR = 0x0C       # 机器人抱闸状态错误\n",
                "    SHUTTLE_STATE_MAIN_SERVO_BRAKE_SIGNAL_ERROR = 0x0D         # 机器人伺服抱闸状态错误\n",
                "    SHUTTLE_STATE_ESTOP_TRIGGERED = 0x0E                       # 机器人急停触发\n",
                "    SHUTTLE_STATE_BRAKE_HARDWARE_OVERRIDE_TRIGGERED = 0x0F     # 机器人硬件解闸失效\n",
                "    ONLINE_TIME_OUT = 0x10   \n",
                "\n",
                "print(ENUM_SHUTTLE_STATE.SHUTTLE_STATE_BOOTUP.value['qiwangzhi'])"
            ]
        },
        {
            "cell_type": "code",
            "execution_count": 16,
            "metadata": {},
            "outputs": [
                {
                    "name": "stdout",
                    "output_type": "stream",
                    "text": [
                        "<class 'enum.EnumMeta'>\n",
                        "<enum 'Conveyor_state'>\n",
                        "Conveyor_state.Idle\n",
                        "Conveyor_state.Ready\n",
                        "Conveyor_state.Loading\n"
                    ]
                }
            ],
            "source": [
                "from enum import Enum\n",
                "class Conveyor_state(Enum):\n",
                "    Idle = {'v': 1}\n",
                "    Ready = 2\n",
                "    Loading = 3\n",
                "\n",
                "print(type(Conveyor_state))\n",
                "print(type(Conveyor_state.Idle))\n",
                "for i in Conveyor_state:\n",
                "    print(i)"
            ]
        },
        {
            "cell_type": "code",
            "execution_count": 21,
            "metadata": {},
            "outputs": [
                {
                    "name": "stdout",
                    "output_type": "stream",
                    "text": [
                        "2\n"
                    ]
                }
            ],
            "source": [
                "class ENUM_FUNCTION_CODE(Enum):\n",
                "    ping = lambda msg: (msg[7])\n",
                "    moving = lambda msg: (int.from_bytes(msg[6:10], byteorder='little', signed=True))\n",
                "\n",
                "    FUNCTION_CODE_PING = {'value': 0x00, 'func': ping}                          # 注册，上线\n",
                "    FUNCTION_CODE_MOVING = {'value': 0x02, 'func': moving}                      # 机器人移动\n",
                "\n",
                "def udp_data_parse(msg: bytes):\n",
                "    for func in ENUM_FUNCTION_CODE:\n",
                "        if func.value['value'] == msg[5]:\n",
                "            return func.value['func'](msg)\n",
                "            \n",
                "\n",
                "print(udp_data_parse(bytes(b'\\x00\\x00\\x11\\x11\\x11\\x00\\x01\\x02')))"
            ]
        },
        {
            "cell_type": "code",
            "execution_count": 20,
            "metadata": {},
            "outputs": [
                {
                    "name": "stdout",
                    "output_type": "stream",
                    "text": [
                        "3.2019\n"
                    ]
                }
            ],
            "source": [
                "import re \n",
                "voltage = re.search(r\"\\d\\.\\d+\", \"vol1 = 3.2019V.\")\n",
                "print(voltage.group(0))"
            ]
        },
        {
            "cell_type": "code",
            "execution_count": 23,
            "metadata": {},
            "outputs": [
                {
                    "name": "stdout",
                    "output_type": "stream",
                    "text": [
                        "avg = 1.5mm, std = 0.7071067811865476mm\n"
                    ]
                }
            ],
            "source": [
                "import statistics \n",
                "res = [1, 2]\n",
                "print(f\"avg = {statistics.mean(res)}mm, std = {statistics.stdev(res)}mm\")\n"
            ]
        },
        {
            "cell_type": "code",
            "execution_count": 14,
            "metadata": {},
            "outputs": [
                {
                    "name": "stdout",
                    "output_type": "stream",
                    "text": [
                        "1664373934.079011\n",
                        "1664373934.0909262\n",
                        "1664373934.100663\n",
                        "1664373934.109956\n",
                        "1664373934.1194391\n",
                        "1664373934.130721\n",
                        "1664373934.1397278\n",
                        "1664373934.15042\n",
                        "1664373934.159122\n",
                        "1664373934.1703591\n"
                    ]
                }
            ],
            "source": [
                "import time\n",
                "starttime = time.time()\n",
                "for i in range(10):\n",
                "    print(time.time())\n",
                "    time.sleep((i + 1) * 0.01 + starttime - time.time())"
            ]
        },
        {
            "cell_type": "code",
            "execution_count": 16,
            "metadata": {},
            "outputs": [
                {
                    "name": "stdout",
                    "output_type": "stream",
                    "text": [
                        "1664374078.121195\n",
                        "1664374078.1252968\n",
                        "1664374078.254067\n",
                        "1664374078.3786619\n",
                        "1664374078.5039191\n",
                        "1664374078.626646\n",
                        "1664374078.754854\n",
                        "1664374078.8762822\n",
                        "1664374079.002866\n",
                        "1664374079.1264472\n"
                    ]
                }
            ],
            "source": [
                "import time\n",
                "\n",
                "def drummer():\n",
                "    counter = 0\n",
                "    # time.sleep(time.time() * 8 % 1 / 8) # enable to sync clock for demo\n",
                "    while counter < 10:\n",
                "        counter += 1\n",
                "        print(time.time())\n",
                "        time.sleep(.125 - time.time() * 8 % 1 / 8)\n",
                "\n",
                "drummer()"
            ]
        },
        {
            "cell_type": "code",
            "execution_count": 1,
            "metadata": {},
            "outputs": [
                {
                    "name": "stdout",
                    "output_type": "stream",
                    "text": [
                        "<class 'canopen.network.Network'>\n"
                    ]
                }
            ],
            "source": [
                "import canopen\n",
                "network = canopen.Network()\n",
                "print(type(network))"
            ]
        },
        {
            "cell_type": "code",
            "execution_count": 23,
            "metadata": {},
            "outputs": [
                {
                    "name": "stdout",
                    "output_type": "stream",
                    "text": [
                        "(1, 2, 11)\n",
                        "p_rabbish pp [1, 2]\n"
                    ]
                }
            ],
            "source": [
                "from varname import nameof\n",
                "\n",
                "class p:\n",
                "    def __init__(self, idx):\n",
                "        self.idx = idx\n",
                "\n",
                "    def pp(self, k, kk): return k, kk, self.idx\n",
                "\n",
                "p_obj = p(1)\n",
                "p_rabbish = p(11)\n",
                "\n",
                "a = [[nameof(p_rabbish), p_rabbish.pp, [1, 2]]]\n",
                "for obj, func, args in a:\n",
                "    print(func(*args))\n",
                "    print(obj, func.__name__, args)\n"
            ]
        },
        {
            "cell_type": "code",
            "execution_count": 4,
            "metadata": {},
            "outputs": [
                {
                    "name": "stdout",
                    "output_type": "stream",
                    "text": [
                        "GRAB_RETRY_START\n"
                    ]
                }
            ],
            "source": [
                "import re\n",
                "s = '2022-10-21T18:29:54.487000+0800 INFO: \t macAddress =70B8F6F32F00 Core/Src/chain_profile_4.c,3255: tick=1438698 GRAB_RETRY_START'\n",
                "KEY = 'GRAB_RETRY_'\n",
                "a = re.search(f'{KEY}[A-Z_]+', s).group(0)\n",
                "print(a)"
            ]
        },
        {
            "cell_type": "code",
            "execution_count": 3,
            "metadata": {},
            "outputs": [
                {
                    "ename": "TypeError",
                    "evalue": "'float' object cannot be interpreted as an integer",
                    "output_type": "error",
                    "traceback": [
                        "\u001b[0;31m---------------------------------------------------------------------------\u001b[0m",
                        "\u001b[0;31mTypeError\u001b[0m                                 Traceback (most recent call last)",
                        "Cell \u001b[0;32mIn [3], line 2\u001b[0m\n\u001b[1;32m      1\u001b[0m s \u001b[39m=\u001b[39m \u001b[39m0\u001b[39m\n\u001b[0;32m----> 2\u001b[0m \u001b[39mfor\u001b[39;00m d \u001b[39min\u001b[39;00m \u001b[39mrange\u001b[39m(\u001b[39m0.0\u001b[39m, \u001b[39m5.0\u001b[39m, \u001b[39m0.1\u001b[39m):\n\u001b[1;32m      3\u001b[0m     s \u001b[39m+\u001b[39m\u001b[39m=\u001b[39m d\n\u001b[1;32m      4\u001b[0m     \u001b[39mprint\u001b[39m(s)\n",
                        "\u001b[0;31mTypeError\u001b[0m: 'float' object cannot be interpreted as an integer"
                    ]
                }
            ],
            "source": [
                "s = 0\n",
                "for d in range(0.0, 5.0, 0.1):\n",
                "    s += d\n",
                "    print(s)"
            ]
        },
        {
            "cell_type": "code",
            "execution_count": 2,
            "metadata": {},
            "outputs": [
                {
                    "ename": "AttributeError",
                    "evalue": "'NoneType' object has no attribute 'group'",
                    "output_type": "error",
                    "traceback": [
                        "\u001b[0;31m---------------------------------------------------------------------------\u001b[0m",
                        "\u001b[0;31mAttributeError\u001b[0m                            Traceback (most recent call last)",
                        "Cell \u001b[0;32mIn [2], line 3\u001b[0m\n\u001b[1;32m      1\u001b[0m \u001b[39mimport\u001b[39;00m \u001b[39mre\u001b[39;00m\n\u001b[1;32m      2\u001b[0m i \u001b[39m=\u001b[39m \u001b[39m'\u001b[39m\u001b[39mfajklfew ABBB8SABBB80\u001b[39m\u001b[39m'\u001b[39m\n\u001b[0;32m----> 3\u001b[0m \u001b[39mprint\u001b[39m(re\u001b[39m.\u001b[39msearch(\u001b[39m'\u001b[39m\u001b[39m\\\\\u001b[39;00m\u001b[39mb[0-9A-F]\u001b[39m\u001b[39m{6}\u001b[39;00m\u001b[39m\\\\\u001b[39;00m\u001b[39mb\u001b[39m\u001b[39m'\u001b[39m, i)\u001b[39m.\u001b[39mgroup(\u001b[39m0\u001b[39m))\n",
                        "\u001b[0;31mAttributeError\u001b[0m: 'NoneType' object has no attribute 'group'"
                    ]
                }
            ],
            "source": [
                "import re\n",
                "i = 'fajklfew ABBB8S ABBB80'\n",
                "print(re.search('\\\\b[0-9A-F]{6}\\\\b', i).group(0))"
            ]
        },
        {
            "cell_type": "code",
            "execution_count": 12,
            "metadata": {},
            "outputs": [
                {
                    "name": "stdout",
                    "output_type": "stream",
                    "text": [
                        "SMALL\n",
                        "MEDIUM\n",
                        "SORT_ACTION_STATE_LOADING\n"
                    ]
                }
            ],
            "source": [
                "from enum import Enum\n",
                "\n",
                "# class Task_result(Enum):\n",
                "    # SORT_ACTION_STATE_LOADING = 3,\n",
                "    # SORT_ACTION_STATE_LOADED = 0x04,\n",
                "    # SORT_ACTION_STATE_UNLOADING = 0x07,\n",
                "    # SORT_ACTION_STATE_UNLOADED = 0x08,\n",
                "    # SORT_ACTION_STATE_LOAD_ERROR = 0x09,\n",
                "    # SORT_ACTION_STATE_UNLOAD_ERROR = 0x0A,\n",
                "    # SORT_ACTION_STATE_LOAD_TIMEOUT_WITHOUT_CARGO = 0x0B,\n",
                "    # SORT_ACTION_STATE_LOAD_TIMEOUT_WITH_CARGO = 0x0C,\n",
                "    # SORT_ACTION_STATE_LOAD_OVERLENGTH = 0x0D,\n",
                "    # SORT_ACTION_STATE_UNLOAD_TIMEOUT_WITHOUT_CARGO = 0x0E,\n",
                "    # SORT_ACTION_STATE_UNLOAD_TIMEOUT_WITH_CARGO = 0x0F,\n",
                "    # SORT_ACTION_STATE_LOAD_UNKNOW_PROFILE = 0x10,\n",
                "    # SORT_ACTION_STATE_UNLOAD_UNKNOW_PROFILE = 0x11,\n",
                "    # SORT_ACTION_STATE_LOAD_SENSOR_ERROR = 0x12\n",
                "\n",
                "# print(Task_result(3).name)\n",
                "\n",
                "class Sizes(Enum):\n",
                "    SMALL = 1\n",
                "    MEDIUM = 2\n",
                "    SORT_ACTION_STATE_LOADING = 3\n",
                "\n",
                "\n",
                "print(Sizes(1).name)  # 👉️ SMALL\n",
                "print(Sizes(2).name)  # 👉️ MEDIUM\n",
                "print(Sizes(3).name)  # 👉️ LARGE"
            ]
        },
        {
            "cell_type": "code",
            "execution_count": 10,
            "metadata": {},
            "outputs": [
                {
                    "name": "stdout",
                    "output_type": "stream",
                    "text": [
                        "[3]\n"
                    ]
                },
                {
                    "name": "stderr",
                    "output_type": "stream",
                    "text": [
                        "/var/folders/lv/w6w7tnpd6k18wx5y8wgt449c0000gn/T/ipykernel_16989/1239084073.py:3: FutureWarning: Possible nested set at position 1\n",
                        "  idx = re.search(r'[[]3[]]', s).group(0)\n"
                    ]
                }
            ],
            "source": [
                "import re\n",
                "s = \"Core/Src/task_main_motor.c,1139:physical_calibration_pos[3]: 62510, abs_pos_when_irq: 63464, actual_encoder_pos: 64743, encoder_pos: 63789, irq_correct_pos: 62490, rising_irq_pos: 63409\"\n",
                "idx = re.search(r'[[]3[]]', s).group(0)\n",
                "print(idx)"
            ]
        },
        {
            "cell_type": "code",
            "execution_count": 6,
            "metadata": {},
            "outputs": [
                {
                    "name": "stdout",
                    "output_type": "stream",
                    "text": [
                        "bytearray(b'\\x9c\\xc7D\\x18\\x10\\x02\\xc9\\xf3\\x02\\x00\\x00\\xfa\\x00\\x00\\x08\\x18I\\x07\\x00\\x18I\\x07\\x00\\xb1\\xfeY?')\n",
                        "441810\n",
                        "True\n"
                    ]
                }
            ],
            "source": [
                "s = '9c c7 44 18 10 02 c9 f3 02 00 00 fa 00 00 08 18 49 07 00 18 49 07 00 b1 fe 59 3f '\n",
                "s = s.replace(' ', '')\n",
                "s = bytearray.fromhex(s)\n",
                "robot_id = s[2:5].hex()\n",
                "cmd_id = s[5]\n",
                "print(s)\n",
                "print(robot_id)\n",
                "print(cmd_id == 0x02)"
            ]
        },
        {
            "cell_type": "code",
            "execution_count": 8,
            "metadata": {},
            "outputs": [
                {
                    "name": "stdout",
                    "output_type": "stream",
                    "text": [
                        "DMKE9\n",
                        "DMKE99\n"
                    ]
                }
            ],
            "source": [
                "import re\n",
                "# a = {\"DMKE\\d\": \"DMKE9EE\"}\n",
                "# for k, v in a.items():\n",
                "#     t = re.search(k, v)\n",
                "#     print(t.group(0))\n",
                "\n",
                "dmke_pid = {\n",
                "    \"DMKE\\d+\": 0\n",
                "}\n",
                "log_msg = \"DMKE99\"\n",
                "for pid_key, count in dmke_pid.items():\n",
                "    print(re.search(pid_key, log_msg).group(0))\n"
            ]
        },
        {
            "cell_type": "code",
            "execution_count": 5,
            "metadata": {},
            "outputs": [
                {
                    "name": "stdout",
                    "output_type": "stream",
                    "text": [
                        "200\n",
                        "22\n"
                    ]
                }
            ],
            "source": [
                "\n",
                "a = 100\n",
                "b = 200\n",
                "print(a and b)\n",
                "\n",
                "x = -100\n",
                "from math import sqrt\n",
                "if x > 0 and sqrt(x):\n",
                "    print('11')\n",
                "else:\n",
                "    print('22')\n"
            ]
        },
        {
            "cell_type": "code",
            "execution_count": 8,
            "metadata": {},
            "outputs": [
                {
                    "name": "stdout",
                    "output_type": "stream",
                    "text": [
                        "Please confirm: Removing files: ['a.txt', 'b.txt']\n",
                        "Removing files: ['a.txt', 'b.txt']\n",
                        "List all files and directories: \n",
                        "Command not recognized\n"
                    ]
                }
            ],
            "source": [
                "def file_handler_v2(command):\n",
                "    match command.split():\n",
                "        case ['show']:\n",
                "            print('List all files and directories: ')\n",
                "            # code to list files\n",
                "        case ['remove' | 'delete', *files] if '--ask' in files:\n",
                "            del_files = [f for f in files if len(f.split('.'))>1]\n",
                "            print('Please confirm: Removing files: {}'.format(del_files))\n",
                "            # code to accept user input, then remove files\n",
                "        case ['remove' | 'delete', *files]:\n",
                "            print('Removing files: {}'.format(files))\n",
                "            # code to remove files\n",
                "        case _:\n",
                "            print('Command not recognized')\n",
                "\n",
                "file_handler_v2('remove --ask a.txt b.txt')\n",
                "file_handler_v2('remove a.txt b.txt')\n",
                "file_handler_v2('show')\n",
                "file_handler_v2('r')"
            ]
        },
        {
            "cell_type": "code",
            "execution_count": 9,
            "metadata": {},
            "outputs": [
                {
                    "name": "stdout",
                    "output_type": "stream",
                    "text": [
                        "B\n",
                        "C\n",
                        "D\n"
                    ]
                }
            ],
            "source": [
                "class B(Exception):\n",
                "    pass\n",
                "\n",
                "class C(B):\n",
                "    pass\n",
                "\n",
                "class D(C):\n",
                "    pass\n",
                "\n",
                "for cls in [B, C, D]:\n",
                "    try:\n",
                "        raise cls()\n",
                "    except D:\n",
                "        print(\"D\")\n",
                "    except C:\n",
                "        print(\"C\")\n",
                "    except B:\n",
                "        print(\"B\")"
            ]
        },
        {
            "cell_type": "code",
            "execution_count": 18,
            "metadata": {},
            "outputs": [
                {
                    "name": "stdout",
                    "output_type": "stream",
                    "text": [
                        "1\n",
                        "2\n",
                        "3\n",
                        "2\n",
                        "4\n",
                        "8\n"
                    ]
                }
            ],
            "source": [
                "arr = [1, 2, 3]\n",
                "it = iter(arr)\n",
                "print(it.__next__())\n",
                "print(next(it))\n",
                "print(it.__next__())\n",
                "\n",
                "class DoubleIt:\n",
                "    def __init__(self):\n",
                "        self.start = 1\n",
                "\n",
                "    def __iter__(self):\n",
                "        return self\n",
                "\n",
                "    def __next__(self):\n",
                "        self.start *= 2\n",
                "        return self.start\n",
                "\n",
                "    __call__ = __next__\n",
                "    \n",
                "my_iter = iter(DoubleIt(), 16)\n",
                "\n",
                "for x in my_iter:\n",
                "    print(x)"
            ]
        },
        {
            "cell_type": "code",
            "execution_count": 34,
            "metadata": {},
            "outputs": [
                {
                    "name": "stdout",
                    "output_type": "stream",
                    "text": [
                        "hello 1\n",
                        "7988828709068652360\n",
                        "Help on built-in function hash in module builtins:\n",
                        "\n",
                        "hash(obj, /)\n",
                        "    Return the hash value for the given object.\n",
                        "    \n",
                        "    Two objects that compare equal must also have the same hash value, but the\n",
                        "    reverse is not necessarily true.\n",
                        "\n"
                    ]
                },
                {
                    "data": {
                        "text/plain": [
                            "{'__name__': '__main__',\n",
                            " '__doc__': 'Automatically created module for IPython interactive environment',\n",
                            " '__package__': None,\n",
                            " '__loader__': None,\n",
                            " '__spec__': None,\n",
                            " '__builtin__': <module 'builtins' (built-in)>,\n",
                            " '__builtins__': <module 'builtins' (built-in)>,\n",
                            " '_ih': ['',\n",
                            "  'a = 100\\nb = 200\\nprint(a and b)',\n",
                            "  \"a = 100\\nb = 200\\nprint(a and b)\\n\\nx = -100\\nfrom math import sqrt\\nif sqrt(x):\\n    print('11')\",\n",
                            "  'a = 100\\nb = 200\\nprint(a and b)\\n\\nx = -100\\nfrom math import sqrt\\nprint(sqrt(x))',\n",
                            "  \"a = 100\\nb = 200\\nprint(a and b)\\n\\nx = -100\\nfrom math import sqrt\\nif x > 0 and sqrt(x):\\n    print('11')\\nelse:\\n    print('22')\",\n",
                            "  \"a = 100\\nb = 200\\nprint(a and b)\\n\\nx = -100\\nfrom math import sqrt\\nif x > 0 and sqrt(x):\\n    print('11')\\nelse:\\n    print('22')\",\n",
                            "  \"def file_handler_v2(command):\\n    match command.split():\\n        case ['show']:\\n            print('List all files and directories: ')\\n            # code to list files\\n        case ['remove' | 'delete', *files] if '--ask' in files:\\n            del_files = [f for f in files if len(f.split('.'))>1]\\n            print('Please confirm: Removing files: {}'.format(del_files))\\n            # code to accept user input, then remove files\\n        case ['remove' | 'delete', *files]:\\n            print('Removing files: {}'.format(files))\\n            # code to remove files\\n        case _:\\n            print('Command not recognized')\\n\\nfile_handler_v2('remove --ask a.txt b.txt')\",\n",
                            "  \"def file_handler_v2(command):\\n    match command.split():\\n        case ['show']:\\n            print('List all files and directories: ')\\n            # code to list files\\n        case ['remove' | 'delete', *files] if '--ask' in files:\\n            del_files = [f for f in files if len(f.split('.'))>1]\\n            print('Please confirm: Removing files: {}'.format(del_files))\\n            # code to accept user input, then remove files\\n        case ['remove' | 'delete', *files]:\\n            print('Removing files: {}'.format(files))\\n            # code to remove files\\n        case _:\\n            print('Command not recognized')\\n\\nfile_handler_v2('remove --ask a.txt b.txt')\\nfile_handler_v2('remove a.txt b.txt')\",\n",
                            "  \"def file_handler_v2(command):\\n    match command.split():\\n        case ['show']:\\n            print('List all files and directories: ')\\n            # code to list files\\n        case ['remove' | 'delete', *files] if '--ask' in files:\\n            del_files = [f for f in files if len(f.split('.'))>1]\\n            print('Please confirm: Removing files: {}'.format(del_files))\\n            # code to accept user input, then remove files\\n        case ['remove' | 'delete', *files]:\\n            print('Removing files: {}'.format(files))\\n            # code to remove files\\n        case _:\\n            print('Command not recognized')\\n\\nfile_handler_v2('remove --ask a.txt b.txt')\\nfile_handler_v2('remove a.txt b.txt')\\nfile_handler_v2('show')\\nfile_handler_v2('r')\",\n",
                            "  'class B(Exception):\\n    pass\\n\\nclass C(B):\\n    pass\\n\\nclass D(C):\\n    pass\\n\\nfor cls in [B, C, D]:\\n    try:\\n        raise cls()\\n    except D:\\n        print(\"D\")\\n    except C:\\n        print(\"C\")\\n    except B:\\n        print(\"B\")',\n",
                            "  'arr = [1, 2, 3]\\nfor i in iter(arr):\\n    print(i)',\n",
                            "  'arr = [1, 2, 3]\\nfor i in iter(arr, 2):\\n    print(i)',\n",
                            "  'arr = [1, 2, 3]\\nit = iter(arr)\\nprint(it)',\n",
                            "  'arr = [1, 2, 3]\\nit = iter(arr)\\nprint(it.__next__())',\n",
                            "  'arr = [1, 2, 3]\\nit = iter(arr)\\nprint(it.__next__())\\nprint(it.__next__())\\nprint(it.__next__())',\n",
                            "  'arr = [1, 2, 3]\\nit = iter(arr)\\nprint(it.__next__())\\nprint(next(it))\\nprint(it.__next__())',\n",
                            "  'arr = [1, 2, 3]\\nit = iter(arr)\\nprint(it.__next__())\\nprint(next(it))\\nprint(it.__next__())\\n\\nclass DoubleIt:\\n\\n    def __init__(self):\\n        self.start = 1\\n\\n    def __iter__(self):\\n        return self\\n\\n    def __next__(self):\\n        self.start *= 2\\n        return self.start\\n\\n    __call__ = __next__\\n    \\nmy_iter = iter(DoubleIt(), 16)\\n\\nfor x in my_iter:\\n    print(x)',\n",
                            "  'arr = [1, 2, 3]\\nit = iter(arr, 2)\\nprint(it.__next__())\\nprint(next(it))\\nprint(it.__next__())\\n\\nclass DoubleIt:\\n\\n    def __init__(self):\\n        self.start = 1\\n\\n    def __iter__(self):\\n        return self\\n\\n    def __next__(self):\\n        self.start *= 2\\n        return self.start\\n\\n    __call__ = __next__\\n    \\nmy_iter = iter(DoubleIt(), 16)\\n\\nfor x in my_iter:\\n    print(x)',\n",
                            "  'arr = [1, 2, 3]\\nit = iter(arr)\\nprint(it.__next__())\\nprint(next(it))\\nprint(it.__next__())\\n\\nclass DoubleIt:\\n\\n    def __init__(self):\\n        self.start = 1\\n\\n    def __iter__(self):\\n        return self\\n\\n    def __next__(self):\\n        self.start *= 2\\n        return self.start\\n\\n    __call__ = __next__\\n    \\nmy_iter = iter(DoubleIt(), 16)\\n\\nfor x in my_iter:\\n    print(x)',\n",
                            "  \"a = 1\\nb = 'aa'\\nprint(repr(a))\\nprint(repr(b))\",\n",
                            "  \"a = 1\\nb = 'aa'\\nprint(repr(a))\\nprint(repr(b))\\nprint(ascii(a))\\nprint(ascii(b))\",\n",
                            "  \"a = 1\\nb = 'aa'\\nprint(repr(a))\\nprint(repr(b))\\nprint(ascii(a))\\nprint(ascii(b))\\n\\nprint(global())\",\n",
                            "  \"a = 1\\nb = 'aa'\\nprint(repr(a))\\nprint(repr(b))\\nprint(ascii(a))\\nprint(ascii(b))\\n\\nprint(globals())\",\n",
                            "  \"a = 1\\nb = 'aa'\\n# print(repr(a))\\n# print(repr(b))\\n# print(ascii(a))\\n# print(ascii(b))\\n\\nprint(globals())\\nprint(locals())\",\n",
                            "  'a = 1\\nb = \\'aa\\'\\n# print(repr(a))\\n# print(repr(b))\\n# print(ascii(a))\\n# print(ascii(b))\\n\\nprint(globals())\\nprint(locals())\\nexec(\\'print(f\"hello {a}\")\\', globals(), locals())',\n",
                            "  'a = 1\\nb = \\'aa\\'\\n# print(repr(a))\\n# print(repr(b))\\n# print(ascii(a))\\n# print(ascii(b))\\n\\nprint(globals())\\nprint(locals())\\nexec(\\'print(f\"hello {a}\")\\')',\n",
                            "  'a = 1\\nb = \\'aa\\'\\n# print(repr(a))\\n# print(repr(b))\\n# print(ascii(a))\\n# print(ascii(b))\\n\\nprint(globals())\\nprint(locals())\\nexec(\\'print(f\"hello {a}\")\\', globals(), locals())',\n",
                            "  'a = 1\\nb = \\'aa\\'\\n# print(repr(a))\\n# print(repr(b))\\n# print(ascii(a))\\n# print(ascii(b))\\n\\nexec(\\'print(f\"hello {a}\")\\', globals(), locals())\\nprint(hash(a))',\n",
                            "  'a = 1\\nb = \\'aa\\'\\n# print(repr(a))\\n# print(repr(b))\\n# print(ascii(a))\\n# print(ascii(b))\\n\\nexec(\\'print(f\"hello {a}\")\\', globals(), locals())\\nprint(hash(b))',\n",
                            "  'a = 1\\nb = \\'aa\\'\\n# print(repr(a))\\n# print(repr(b))\\n# print(ascii(a))\\n# print(ascii(b))\\n\\nexec(\\'print(f\"hello {a}\")\\', globals(), locals())\\nprint(hash(b))\\nhelp()',\n",
                            "  'a = 1\\nb = \\'aa\\'\\n# print(repr(a))\\n# print(repr(b))\\n# print(ascii(a))\\n# print(ascii(b))\\n\\nexec(\\'print(f\"hello {a}\")\\', globals(), locals())\\nprint(hash(b))\\nhelp(hash())',\n",
                            "  'a = 1\\nb = \\'aa\\'\\n# print(repr(a))\\n# print(repr(b))\\n# print(ascii(a))\\n# print(ascii(b))\\n\\nexec(\\'print(f\"hello {a}\")\\', globals(), locals())\\nprint(hash(b))\\nhelp(hash)',\n",
                            "  'a = 1\\nb = \\'aa\\'\\n# print(repr(a))\\n# print(repr(b))\\n# print(ascii(a))\\n# print(ascii(b))\\n\\nexec(\\'print(f\"hello {a}\")\\', globals(), locals())\\nprint(hash(b))\\nhelp(hash)\\nvars(hash)',\n",
                            "  'a = 1\\nb = \\'aa\\'\\n# print(repr(a))\\n# print(repr(b))\\n# print(ascii(a))\\n# print(ascii(b))\\n\\nexec(\\'print(f\"hello {a}\")\\', globals(), locals())\\nprint(hash(b))\\nhelp(hash)\\nvars(a)',\n",
                            "  'a = 1\\nb = \\'aa\\'\\n# print(repr(a))\\n# print(repr(b))\\n# print(ascii(a))\\n# print(ascii(b))\\n\\nexec(\\'print(f\"hello {a}\")\\', globals(), locals())\\nprint(hash(b))\\nhelp(hash)\\nvars()'],\n",
                            " '_oh': {},\n",
                            " '_dh': [PosixPath('/Users/huayu/hcrobot/yuhua_test/explore_leet/sketchpad'),\n",
                            "  PosixPath('/Users/huayu/hcrobot/yuhua_test/explore_leet/sketchpad')],\n",
                            " 'In': ['',\n",
                            "  'a = 100\\nb = 200\\nprint(a and b)',\n",
                            "  \"a = 100\\nb = 200\\nprint(a and b)\\n\\nx = -100\\nfrom math import sqrt\\nif sqrt(x):\\n    print('11')\",\n",
                            "  'a = 100\\nb = 200\\nprint(a and b)\\n\\nx = -100\\nfrom math import sqrt\\nprint(sqrt(x))',\n",
                            "  \"a = 100\\nb = 200\\nprint(a and b)\\n\\nx = -100\\nfrom math import sqrt\\nif x > 0 and sqrt(x):\\n    print('11')\\nelse:\\n    print('22')\",\n",
                            "  \"a = 100\\nb = 200\\nprint(a and b)\\n\\nx = -100\\nfrom math import sqrt\\nif x > 0 and sqrt(x):\\n    print('11')\\nelse:\\n    print('22')\",\n",
                            "  \"def file_handler_v2(command):\\n    match command.split():\\n        case ['show']:\\n            print('List all files and directories: ')\\n            # code to list files\\n        case ['remove' | 'delete', *files] if '--ask' in files:\\n            del_files = [f for f in files if len(f.split('.'))>1]\\n            print('Please confirm: Removing files: {}'.format(del_files))\\n            # code to accept user input, then remove files\\n        case ['remove' | 'delete', *files]:\\n            print('Removing files: {}'.format(files))\\n            # code to remove files\\n        case _:\\n            print('Command not recognized')\\n\\nfile_handler_v2('remove --ask a.txt b.txt')\",\n",
                            "  \"def file_handler_v2(command):\\n    match command.split():\\n        case ['show']:\\n            print('List all files and directories: ')\\n            # code to list files\\n        case ['remove' | 'delete', *files] if '--ask' in files:\\n            del_files = [f for f in files if len(f.split('.'))>1]\\n            print('Please confirm: Removing files: {}'.format(del_files))\\n            # code to accept user input, then remove files\\n        case ['remove' | 'delete', *files]:\\n            print('Removing files: {}'.format(files))\\n            # code to remove files\\n        case _:\\n            print('Command not recognized')\\n\\nfile_handler_v2('remove --ask a.txt b.txt')\\nfile_handler_v2('remove a.txt b.txt')\",\n",
                            "  \"def file_handler_v2(command):\\n    match command.split():\\n        case ['show']:\\n            print('List all files and directories: ')\\n            # code to list files\\n        case ['remove' | 'delete', *files] if '--ask' in files:\\n            del_files = [f for f in files if len(f.split('.'))>1]\\n            print('Please confirm: Removing files: {}'.format(del_files))\\n            # code to accept user input, then remove files\\n        case ['remove' | 'delete', *files]:\\n            print('Removing files: {}'.format(files))\\n            # code to remove files\\n        case _:\\n            print('Command not recognized')\\n\\nfile_handler_v2('remove --ask a.txt b.txt')\\nfile_handler_v2('remove a.txt b.txt')\\nfile_handler_v2('show')\\nfile_handler_v2('r')\",\n",
                            "  'class B(Exception):\\n    pass\\n\\nclass C(B):\\n    pass\\n\\nclass D(C):\\n    pass\\n\\nfor cls in [B, C, D]:\\n    try:\\n        raise cls()\\n    except D:\\n        print(\"D\")\\n    except C:\\n        print(\"C\")\\n    except B:\\n        print(\"B\")',\n",
                            "  'arr = [1, 2, 3]\\nfor i in iter(arr):\\n    print(i)',\n",
                            "  'arr = [1, 2, 3]\\nfor i in iter(arr, 2):\\n    print(i)',\n",
                            "  'arr = [1, 2, 3]\\nit = iter(arr)\\nprint(it)',\n",
                            "  'arr = [1, 2, 3]\\nit = iter(arr)\\nprint(it.__next__())',\n",
                            "  'arr = [1, 2, 3]\\nit = iter(arr)\\nprint(it.__next__())\\nprint(it.__next__())\\nprint(it.__next__())',\n",
                            "  'arr = [1, 2, 3]\\nit = iter(arr)\\nprint(it.__next__())\\nprint(next(it))\\nprint(it.__next__())',\n",
                            "  'arr = [1, 2, 3]\\nit = iter(arr)\\nprint(it.__next__())\\nprint(next(it))\\nprint(it.__next__())\\n\\nclass DoubleIt:\\n\\n    def __init__(self):\\n        self.start = 1\\n\\n    def __iter__(self):\\n        return self\\n\\n    def __next__(self):\\n        self.start *= 2\\n        return self.start\\n\\n    __call__ = __next__\\n    \\nmy_iter = iter(DoubleIt(), 16)\\n\\nfor x in my_iter:\\n    print(x)',\n",
                            "  'arr = [1, 2, 3]\\nit = iter(arr, 2)\\nprint(it.__next__())\\nprint(next(it))\\nprint(it.__next__())\\n\\nclass DoubleIt:\\n\\n    def __init__(self):\\n        self.start = 1\\n\\n    def __iter__(self):\\n        return self\\n\\n    def __next__(self):\\n        self.start *= 2\\n        return self.start\\n\\n    __call__ = __next__\\n    \\nmy_iter = iter(DoubleIt(), 16)\\n\\nfor x in my_iter:\\n    print(x)',\n",
                            "  'arr = [1, 2, 3]\\nit = iter(arr)\\nprint(it.__next__())\\nprint(next(it))\\nprint(it.__next__())\\n\\nclass DoubleIt:\\n\\n    def __init__(self):\\n        self.start = 1\\n\\n    def __iter__(self):\\n        return self\\n\\n    def __next__(self):\\n        self.start *= 2\\n        return self.start\\n\\n    __call__ = __next__\\n    \\nmy_iter = iter(DoubleIt(), 16)\\n\\nfor x in my_iter:\\n    print(x)',\n",
                            "  \"a = 1\\nb = 'aa'\\nprint(repr(a))\\nprint(repr(b))\",\n",
                            "  \"a = 1\\nb = 'aa'\\nprint(repr(a))\\nprint(repr(b))\\nprint(ascii(a))\\nprint(ascii(b))\",\n",
                            "  \"a = 1\\nb = 'aa'\\nprint(repr(a))\\nprint(repr(b))\\nprint(ascii(a))\\nprint(ascii(b))\\n\\nprint(global())\",\n",
                            "  \"a = 1\\nb = 'aa'\\nprint(repr(a))\\nprint(repr(b))\\nprint(ascii(a))\\nprint(ascii(b))\\n\\nprint(globals())\",\n",
                            "  \"a = 1\\nb = 'aa'\\n# print(repr(a))\\n# print(repr(b))\\n# print(ascii(a))\\n# print(ascii(b))\\n\\nprint(globals())\\nprint(locals())\",\n",
                            "  'a = 1\\nb = \\'aa\\'\\n# print(repr(a))\\n# print(repr(b))\\n# print(ascii(a))\\n# print(ascii(b))\\n\\nprint(globals())\\nprint(locals())\\nexec(\\'print(f\"hello {a}\")\\', globals(), locals())',\n",
                            "  'a = 1\\nb = \\'aa\\'\\n# print(repr(a))\\n# print(repr(b))\\n# print(ascii(a))\\n# print(ascii(b))\\n\\nprint(globals())\\nprint(locals())\\nexec(\\'print(f\"hello {a}\")\\')',\n",
                            "  'a = 1\\nb = \\'aa\\'\\n# print(repr(a))\\n# print(repr(b))\\n# print(ascii(a))\\n# print(ascii(b))\\n\\nprint(globals())\\nprint(locals())\\nexec(\\'print(f\"hello {a}\")\\', globals(), locals())',\n",
                            "  'a = 1\\nb = \\'aa\\'\\n# print(repr(a))\\n# print(repr(b))\\n# print(ascii(a))\\n# print(ascii(b))\\n\\nexec(\\'print(f\"hello {a}\")\\', globals(), locals())\\nprint(hash(a))',\n",
                            "  'a = 1\\nb = \\'aa\\'\\n# print(repr(a))\\n# print(repr(b))\\n# print(ascii(a))\\n# print(ascii(b))\\n\\nexec(\\'print(f\"hello {a}\")\\', globals(), locals())\\nprint(hash(b))',\n",
                            "  'a = 1\\nb = \\'aa\\'\\n# print(repr(a))\\n# print(repr(b))\\n# print(ascii(a))\\n# print(ascii(b))\\n\\nexec(\\'print(f\"hello {a}\")\\', globals(), locals())\\nprint(hash(b))\\nhelp()',\n",
                            "  'a = 1\\nb = \\'aa\\'\\n# print(repr(a))\\n# print(repr(b))\\n# print(ascii(a))\\n# print(ascii(b))\\n\\nexec(\\'print(f\"hello {a}\")\\', globals(), locals())\\nprint(hash(b))\\nhelp(hash())',\n",
                            "  'a = 1\\nb = \\'aa\\'\\n# print(repr(a))\\n# print(repr(b))\\n# print(ascii(a))\\n# print(ascii(b))\\n\\nexec(\\'print(f\"hello {a}\")\\', globals(), locals())\\nprint(hash(b))\\nhelp(hash)',\n",
                            "  'a = 1\\nb = \\'aa\\'\\n# print(repr(a))\\n# print(repr(b))\\n# print(ascii(a))\\n# print(ascii(b))\\n\\nexec(\\'print(f\"hello {a}\")\\', globals(), locals())\\nprint(hash(b))\\nhelp(hash)\\nvars(hash)',\n",
                            "  'a = 1\\nb = \\'aa\\'\\n# print(repr(a))\\n# print(repr(b))\\n# print(ascii(a))\\n# print(ascii(b))\\n\\nexec(\\'print(f\"hello {a}\")\\', globals(), locals())\\nprint(hash(b))\\nhelp(hash)\\nvars(a)',\n",
                            "  'a = 1\\nb = \\'aa\\'\\n# print(repr(a))\\n# print(repr(b))\\n# print(ascii(a))\\n# print(ascii(b))\\n\\nexec(\\'print(f\"hello {a}\")\\', globals(), locals())\\nprint(hash(b))\\nhelp(hash)\\nvars()'],\n",
                            " 'Out': {},\n",
                            " 'get_ipython': <bound method InteractiveShell.get_ipython of <ipykernel.zmqshell.ZMQInteractiveShell object at 0x10f1b1990>>,\n",
                            " 'exit': <IPython.core.autocall.ZMQExitAutocall at 0x10f1b9c90>,\n",
                            " 'quit': <IPython.core.autocall.ZMQExitAutocall at 0x10f1b9c90>,\n",
                            " 'open': <function io.open(file, mode='r', buffering=-1, encoding=None, errors=None, newline=None, closefd=True, opener=None)>,\n",
                            " '_': '',\n",
                            " '__': '',\n",
                            " '___': '',\n",
                            " '__vsc_ipynb_file__': '/Users/huayu/hcrobot/yuhua_test/explore_leet/sketchpad/sketch.ipynb',\n",
                            " '_i': 'a = 1\\nb = \\'aa\\'\\n# print(repr(a))\\n# print(repr(b))\\n# print(ascii(a))\\n# print(ascii(b))\\n\\nexec(\\'print(f\"hello {a}\")\\', globals(), locals())\\nprint(hash(b))\\nhelp(hash)\\nvars(a)',\n",
                            " '_ii': 'a = 1\\nb = \\'aa\\'\\n# print(repr(a))\\n# print(repr(b))\\n# print(ascii(a))\\n# print(ascii(b))\\n\\nexec(\\'print(f\"hello {a}\")\\', globals(), locals())\\nprint(hash(b))\\nhelp(hash)\\nvars(hash)',\n",
                            " '_iii': 'a = 1\\nb = \\'aa\\'\\n# print(repr(a))\\n# print(repr(b))\\n# print(ascii(a))\\n# print(ascii(b))\\n\\nexec(\\'print(f\"hello {a}\")\\', globals(), locals())\\nprint(hash(b))\\nhelp(hash)',\n",
                            " '_i1': '\\na = 100\\nb = 200\\nprint(a and b)',\n",
                            " 'a': 1,\n",
                            " 'b': 'aa',\n",
                            " '_i2': \"\\na = 100\\nb = 200\\nprint(a and b)\\n\\nx = -100\\nfrom math import sqrt\\nif sqrt(x):\\n    print('11')\",\n",
                            " 'x': 8,\n",
                            " 'sqrt': <function math.sqrt(x, /)>,\n",
                            " '_i3': '\\na = 100\\nb = 200\\nprint(a and b)\\n\\nx = -100\\nfrom math import sqrt\\nprint(sqrt(x))',\n",
                            " '_i4': \"\\na = 100\\nb = 200\\nprint(a and b)\\n\\nx = -100\\nfrom math import sqrt\\nif x > 0 and sqrt(x):\\n    print('11')\\nelse:\\n    print('22')\",\n",
                            " '_i5': \"\\na = 100\\nb = 200\\nprint(a and b)\\n\\nx = -100\\nfrom math import sqrt\\nif x > 0 and sqrt(x):\\n    print('11')\\nelse:\\n    print('22')\",\n",
                            " '_i6': \"def file_handler_v2(command):\\n    match command.split():\\n        case ['show']:\\n            print('List all files and directories: ')\\n            # code to list files\\n        case ['remove' | 'delete', *files] if '--ask' in files:\\n            del_files = [f for f in files if len(f.split('.'))>1]\\n            print('Please confirm: Removing files: {}'.format(del_files))\\n            # code to accept user input, then remove files\\n        case ['remove' | 'delete', *files]:\\n            print('Removing files: {}'.format(files))\\n            # code to remove files\\n        case _:\\n            print('Command not recognized')\\n\\nfile_handler_v2('remove --ask a.txt b.txt')\",\n",
                            " 'file_handler_v2': <function __main__.file_handler_v2(command)>,\n",
                            " '_i7': \"def file_handler_v2(command):\\n    match command.split():\\n        case ['show']:\\n            print('List all files and directories: ')\\n            # code to list files\\n        case ['remove' | 'delete', *files] if '--ask' in files:\\n            del_files = [f for f in files if len(f.split('.'))>1]\\n            print('Please confirm: Removing files: {}'.format(del_files))\\n            # code to accept user input, then remove files\\n        case ['remove' | 'delete', *files]:\\n            print('Removing files: {}'.format(files))\\n            # code to remove files\\n        case _:\\n            print('Command not recognized')\\n\\nfile_handler_v2('remove --ask a.txt b.txt')\\nfile_handler_v2('remove a.txt b.txt')\",\n",
                            " '_i8': \"def file_handler_v2(command):\\n    match command.split():\\n        case ['show']:\\n            print('List all files and directories: ')\\n            # code to list files\\n        case ['remove' | 'delete', *files] if '--ask' in files:\\n            del_files = [f for f in files if len(f.split('.'))>1]\\n            print('Please confirm: Removing files: {}'.format(del_files))\\n            # code to accept user input, then remove files\\n        case ['remove' | 'delete', *files]:\\n            print('Removing files: {}'.format(files))\\n            # code to remove files\\n        case _:\\n            print('Command not recognized')\\n\\nfile_handler_v2('remove --ask a.txt b.txt')\\nfile_handler_v2('remove a.txt b.txt')\\nfile_handler_v2('show')\\nfile_handler_v2('r')\",\n",
                            " '_i9': 'class B(Exception):\\n    pass\\n\\nclass C(B):\\n    pass\\n\\nclass D(C):\\n    pass\\n\\nfor cls in [B, C, D]:\\n    try:\\n        raise cls()\\n    except D:\\n        print(\"D\")\\n    except C:\\n        print(\"C\")\\n    except B:\\n        print(\"B\")',\n",
                            " 'B': __main__.B,\n",
                            " 'C': __main__.C,\n",
                            " 'D': __main__.D,\n",
                            " 'cls': __main__.D,\n",
                            " '_i10': 'arr = [1, 2, 3]\\nfor i in iter(arr):\\n    print(i)',\n",
                            " 'arr': [1, 2, 3],\n",
                            " 'i': 3,\n",
                            " '_i11': 'arr = [1, 2, 3]\\nfor i in iter(arr, 2):\\n    print(i)',\n",
                            " '_i12': 'arr = [1, 2, 3]\\nit = iter(arr)\\nprint(it)',\n",
                            " 'it': <list_iterator at 0x10f1d6ec0>,\n",
                            " '_i13': 'arr = [1, 2, 3]\\nit = iter(arr)\\nprint(it.__next__())',\n",
                            " '_i14': 'arr = [1, 2, 3]\\nit = iter(arr)\\nprint(it.__next__())\\nprint(it.__next__())\\nprint(it.__next__())',\n",
                            " '_i15': 'arr = [1, 2, 3]\\nit = iter(arr)\\nprint(it.__next__())\\nprint(next(it))\\nprint(it.__next__())',\n",
                            " '_i16': 'arr = [1, 2, 3]\\nit = iter(arr)\\nprint(it.__next__())\\nprint(next(it))\\nprint(it.__next__())\\n\\nclass DoubleIt:\\n\\n    def __init__(self):\\n        self.start = 1\\n\\n    def __iter__(self):\\n        return self\\n\\n    def __next__(self):\\n        self.start *= 2\\n        return self.start\\n\\n    __call__ = __next__\\n    \\nmy_iter = iter(DoubleIt(), 16)\\n\\nfor x in my_iter:\\n    print(x)',\n",
                            " 'DoubleIt': __main__.DoubleIt,\n",
                            " 'my_iter': <callable_iterator at 0x10f15ffd0>,\n",
                            " '_i17': 'arr = [1, 2, 3]\\nit = iter(arr, 2)\\nprint(it.__next__())\\nprint(next(it))\\nprint(it.__next__())\\n\\nclass DoubleIt:\\n\\n    def __init__(self):\\n        self.start = 1\\n\\n    def __iter__(self):\\n        return self\\n\\n    def __next__(self):\\n        self.start *= 2\\n        return self.start\\n\\n    __call__ = __next__\\n    \\nmy_iter = iter(DoubleIt(), 16)\\n\\nfor x in my_iter:\\n    print(x)',\n",
                            " '_i18': 'arr = [1, 2, 3]\\nit = iter(arr)\\nprint(it.__next__())\\nprint(next(it))\\nprint(it.__next__())\\n\\nclass DoubleIt:\\n\\n    def __init__(self):\\n        self.start = 1\\n\\n    def __iter__(self):\\n        return self\\n\\n    def __next__(self):\\n        self.start *= 2\\n        return self.start\\n\\n    __call__ = __next__\\n    \\nmy_iter = iter(DoubleIt(), 16)\\n\\nfor x in my_iter:\\n    print(x)',\n",
                            " '_i19': \"a = 1\\nb = 'aa'\\nprint(repr(a))\\nprint(repr(b))\",\n",
                            " '_i20': \"a = 1\\nb = 'aa'\\nprint(repr(a))\\nprint(repr(b))\\nprint(ascii(a))\\nprint(ascii(b))\",\n",
                            " '_i21': \"a = 1\\nb = 'aa'\\nprint(repr(a))\\nprint(repr(b))\\nprint(ascii(a))\\nprint(ascii(b))\\n\\nprint(global())\",\n",
                            " '_i22': \"a = 1\\nb = 'aa'\\nprint(repr(a))\\nprint(repr(b))\\nprint(ascii(a))\\nprint(ascii(b))\\n\\nprint(globals())\",\n",
                            " '_i23': \"a = 1\\nb = 'aa'\\n# print(repr(a))\\n# print(repr(b))\\n# print(ascii(a))\\n# print(ascii(b))\\n\\nprint(globals())\\nprint(locals())\",\n",
                            " '_i24': 'a = 1\\nb = \\'aa\\'\\n# print(repr(a))\\n# print(repr(b))\\n# print(ascii(a))\\n# print(ascii(b))\\n\\nprint(globals())\\nprint(locals())\\nexec(\\'print(f\"hello {a}\")\\', globals(), locals())',\n",
                            " '_i25': 'a = 1\\nb = \\'aa\\'\\n# print(repr(a))\\n# print(repr(b))\\n# print(ascii(a))\\n# print(ascii(b))\\n\\nprint(globals())\\nprint(locals())\\nexec(\\'print(f\"hello {a}\")\\')',\n",
                            " '_i26': 'a = 1\\nb = \\'aa\\'\\n# print(repr(a))\\n# print(repr(b))\\n# print(ascii(a))\\n# print(ascii(b))\\n\\nprint(globals())\\nprint(locals())\\nexec(\\'print(f\"hello {a}\")\\', globals(), locals())',\n",
                            " '_i27': 'a = 1\\nb = \\'aa\\'\\n# print(repr(a))\\n# print(repr(b))\\n# print(ascii(a))\\n# print(ascii(b))\\n\\nexec(\\'print(f\"hello {a}\")\\', globals(), locals())\\nprint(hash(a))',\n",
                            " '_i28': 'a = 1\\nb = \\'aa\\'\\n# print(repr(a))\\n# print(repr(b))\\n# print(ascii(a))\\n# print(ascii(b))\\n\\nexec(\\'print(f\"hello {a}\")\\', globals(), locals())\\nprint(hash(b))',\n",
                            " '_i29': 'a = 1\\nb = \\'aa\\'\\n# print(repr(a))\\n# print(repr(b))\\n# print(ascii(a))\\n# print(ascii(b))\\n\\nexec(\\'print(f\"hello {a}\")\\', globals(), locals())\\nprint(hash(b))\\nhelp()',\n",
                            " '_i30': 'a = 1\\nb = \\'aa\\'\\n# print(repr(a))\\n# print(repr(b))\\n# print(ascii(a))\\n# print(ascii(b))\\n\\nexec(\\'print(f\"hello {a}\")\\', globals(), locals())\\nprint(hash(b))\\nhelp(hash())',\n",
                            " '_i31': 'a = 1\\nb = \\'aa\\'\\n# print(repr(a))\\n# print(repr(b))\\n# print(ascii(a))\\n# print(ascii(b))\\n\\nexec(\\'print(f\"hello {a}\")\\', globals(), locals())\\nprint(hash(b))\\nhelp(hash)',\n",
                            " '_i32': 'a = 1\\nb = \\'aa\\'\\n# print(repr(a))\\n# print(repr(b))\\n# print(ascii(a))\\n# print(ascii(b))\\n\\nexec(\\'print(f\"hello {a}\")\\', globals(), locals())\\nprint(hash(b))\\nhelp(hash)\\nvars(hash)',\n",
                            " '_i33': 'a = 1\\nb = \\'aa\\'\\n# print(repr(a))\\n# print(repr(b))\\n# print(ascii(a))\\n# print(ascii(b))\\n\\nexec(\\'print(f\"hello {a}\")\\', globals(), locals())\\nprint(hash(b))\\nhelp(hash)\\nvars(a)',\n",
                            " '_i34': 'a = 1\\nb = \\'aa\\'\\n# print(repr(a))\\n# print(repr(b))\\n# print(ascii(a))\\n# print(ascii(b))\\n\\nexec(\\'print(f\"hello {a}\")\\', globals(), locals())\\nprint(hash(b))\\nhelp(hash)\\nvars()'}"
                        ]
                    },
                    "execution_count": 34,
                    "metadata": {},
                    "output_type": "execute_result"
                }
            ],
            "source": [
                "a = 1\n",
                "b = 'aa'\n",
                "# print(repr(a))\n",
                "# print(repr(b))\n",
                "# print(ascii(a))\n",
                "# print(ascii(b))\n",
                "\n",
                "exec('print(f\"hello {a}\")', globals(), locals())\n",
                "print(hash(b))\n",
                "help(hash)\n",
                "vars()"
            ]
        },
        {
            "cell_type": "code",
            "execution_count": 41,
            "metadata": {},
            "outputs": [
                {
                    "name": "stdout",
                    "output_type": "stream",
                    "text": [
                        "         4 function calls in 0.000 seconds\n",
                        "\n",
                        "   Ordered by: standard name\n",
                        "\n",
                        "   ncalls  tottime  percall  cumtime  percall filename:lineno(function)\n",
                        "        1    0.000    0.000    0.000    0.000 3322131256.py:3(merge_sort)\n",
                        "        1    0.000    0.000    0.000    0.000 <string>:1(<module>)\n",
                        "        1    0.000    0.000    0.000    0.000 {built-in method builtins.exec}\n",
                        "        1    0.000    0.000    0.000    0.000 {method 'disable' of '_lsprof.Profiler' objects}\n",
                        "\n",
                        "\n"
                    ]
                }
            ],
            "source": [
                "import cProfile\n",
                "\n",
                "def merge_sort(x):\n",
                "    pass\n",
                "\n",
                "globals_dict = globals()\n",
                "locals_dict = {'x': [i for i in range(100000)]}\n",
                "\n",
                "cProfile.runctx('merge_sort(x)', globals_dict, locals_dict)"
            ]
        },
        {
            "cell_type": "code",
            "execution_count": 42,
            "metadata": {},
            "outputs": [
                {
                    "name": "stdout",
                    "output_type": "stream",
                    "text": [
                        "1\n",
                        "1\n"
                    ]
                }
            ],
            "source": [
                "from array import array\n",
                "a = [1, 2, 3]\n",
                "b = array('i', a)\n",
                "\n",
                "print(a.index(2))\n",
                "print(b.index(2))\n"
            ]
        },
        {
            "cell_type": "code",
            "execution_count": 4,
            "metadata": {},
            "outputs": [
                {
                    "name": "stdout",
                    "output_type": "stream",
                    "text": [
                        "4612226224 100000\n",
                        "4612224624 100001\n",
                        "4612225200 100002\n",
                        "4612225200\n",
                        "25088\n",
                        "         100004 function calls in 3.001 seconds\n",
                        "\n",
                        "   Ordered by: standard name\n",
                        "\n",
                        "   ncalls  tottime  percall  cumtime  percall filename:lineno(function)\n",
                        "        1    0.079    0.079    3.001    3.001 2871629878.py:11(test_insert_front)\n",
                        "        1    0.000    0.000    3.001    3.001 <string>:1(<module>)\n",
                        "        1    0.000    0.000    3.001    3.001 {built-in method builtins.exec}\n",
                        "        1    0.000    0.000    0.000    0.000 {method 'disable' of '_lsprof.Profiler' objects}\n",
                        "   100000    2.922    0.000    2.922    0.000 {method 'insert' of 'list' objects}\n",
                        "\n",
                        "\n",
                        "         100004 function calls in 0.051 seconds\n",
                        "\n",
                        "   Ordered by: standard name\n",
                        "\n",
                        "   ncalls  tottime  percall  cumtime  percall filename:lineno(function)\n",
                        "        1    0.040    0.040    0.051    0.051 2871629878.py:16(test_insert_rear)\n",
                        "        1    0.000    0.000    0.051    0.051 <string>:1(<module>)\n",
                        "        1    0.000    0.000    0.051    0.051 {built-in method builtins.exec}\n",
                        "        1    0.000    0.000    0.000    0.000 {method 'disable' of '_lsprof.Profiler' objects}\n",
                        "   100000    0.011    0.000    0.011    0.000 {method 'insert' of 'list' objects}\n",
                        "\n",
                        "\n",
                        "         100004 function calls in 0.045 seconds\n",
                        "\n",
                        "   Ordered by: standard name\n",
                        "\n",
                        "   ncalls  tottime  percall  cumtime  percall filename:lineno(function)\n",
                        "        1    0.034    0.034    0.045    0.045 2871629878.py:23(test_append)\n",
                        "        1    0.000    0.000    0.045    0.045 <string>:1(<module>)\n",
                        "        1    0.000    0.000    0.045    0.045 {built-in method builtins.exec}\n",
                        "   100000    0.011    0.000    0.011    0.000 {method 'append' of 'list' objects}\n",
                        "        1    0.000    0.000    0.000    0.000 {method 'disable' of '_lsprof.Profiler' objects}\n",
                        "\n",
                        "\n"
                    ]
                }
            ],
            "source": [
                "a = [100000, 100001, 100002]\n",
                "from array import *\n",
                "import ctypes\n",
                "a = array('i', [100000, 100001, 100002])\n",
                "for i in range(len(a)):\n",
                "    tmp = id(a[i])\n",
                "    print(tmp, a[i])\n",
                "print(tmp)\n",
                "print(ctypes.cast(tmp, ctypes.py_object).value)\n",
                "\n",
                "def test_insert_front():\n",
                "    a = [100000, 100001, 100002]\n",
                "    for i in range(100000):\n",
                "        a.insert(0, 100003)\n",
                "\n",
                "def test_insert_rear():\n",
                "    a = [100000, 100001, 100002]\n",
                "    idx = 3\n",
                "    for i in range(100000):\n",
                "        a.insert(idx, 100003)\n",
                "        idx += 1\n",
                "\n",
                "def test_append():\n",
                "    a = [100000, 100001, 100002]\n",
                "    for i in range(100000):\n",
                "        a.append(100003)\n",
                "\n",
                "import cProfile\n",
                "cProfile.run('test_insert_front()')\n",
                "cProfile.run('test_insert_rear()')\n",
                "cProfile.run('test_append()')"
            ]
        },
        {
            "cell_type": "code",
            "execution_count": 2,
            "metadata": {},
            "outputs": [
                {
                    "ename": "TypeError",
                    "evalue": "'<' not supported between instances of 'A' and 'A'",
                    "output_type": "error",
                    "traceback": [
                        "\u001b[0;31m---------------------------------------------------------------------------\u001b[0m",
                        "\u001b[0;31mTypeError\u001b[0m                                 Traceback (most recent call last)",
                        "Cell \u001b[0;32mIn[2], line 15\u001b[0m\n\u001b[1;32m     12\u001b[0m heap \u001b[39m=\u001b[39m [A(\u001b[39m5\u001b[39m), A(\u001b[39m3\u001b[39m), A(\u001b[39m7\u001b[39m), A(\u001b[39m1\u001b[39m)]\n\u001b[1;32m     14\u001b[0m \u001b[39m# 使用 heapq.heapify 对列表进行堆化\u001b[39;00m\n\u001b[0;32m---> 15\u001b[0m heapq\u001b[39m.\u001b[39;49mheapify(heap)\n\u001b[1;32m     17\u001b[0m \u001b[39m# 现在 heap 中的元素会按照 __lt__ 方法定义的规则排序\u001b[39;00m\n\u001b[1;32m     18\u001b[0m \n\u001b[1;32m     19\u001b[0m \u001b[39m# 通过弹出堆顶元素可以获取到最小值\u001b[39;00m\n\u001b[1;32m     20\u001b[0m min_element \u001b[39m=\u001b[39m heapq\u001b[39m.\u001b[39mheappop(heap)\n",
                        "\u001b[0;31mTypeError\u001b[0m: '<' not supported between instances of 'A' and 'A'"
                    ]
                }
            ],
            "source": [
                "import heapq\n",
                "\n",
                "class A:\n",
                "    def __init__(self, value):\n",
                "        self.value = value\n",
                "\n",
                "    # 定义 __lt__ 方法，用于在类的实例之间进行比较\n",
                "    def __lt__(self, other):\n",
                "        return self.value < other.value\n",
                "\n",
                "# 创建包含类 A 实例的列表\n",
                "heap = [A(5), A(3), A(7), A(1)]\n",
                "\n",
                "# 使用 heapq.heapify 对列表进行堆化\n",
                "heapq.heapify(heap)\n",
                "\n",
                "# 现在 heap 中的元素会按照 __lt__ 方法定义的规则排序\n",
                "\n",
                "# 通过弹出堆顶元素可以获取到最小值\n",
                "min_element = heapq.heappop(heap)\n",
                "print(min_element.value)  # 输出 1"
            ]
        },
        {
            "cell_type": "code",
            "execution_count": 11,
            "metadata": {},
            "outputs": [
                {
                    "name": "stdout",
                    "output_type": "stream",
                    "text": [
                        "deque([1, 2])\n",
                        "2\n",
                        "1\n",
                        "0\n",
                        "True\n",
                        "True\n"
                    ]
                }
            ],
            "source": [
                "from collections import deque\n",
                "\n",
                "stack = deque()\n",
                "stack.append(1)\n",
                "stack.append(2)\n",
                "\n",
                "print(stack)\n",
                "\n",
                "while stack:\n",
                "    print(stack.pop())\n",
                "\n",
                "from queue import Queue, LifoQueue\n",
                "\n",
                "q = Queue(maxsize=2)\n",
                "stack = LifoQueue(maxsize=2)\n",
                "\n",
                "print(stack.qsize())\n",
                "stack.put(1)\n",
                "stack.put(2)\n",
                "print(stack.full())\n",
                "stack.get()\n",
                "stack.put_nowait(3)\n",
                "print(stack.full())\n",
                "\n",
                "\n"
            ]
        },
        {
            "cell_type": "code",
            "execution_count": 16,
            "metadata": {},
            "outputs": [
                {
                    "name": "stdout",
                    "output_type": "stream",
                    "text": [
                        "[[0, 0, 0, 0], [0, 1, 1, 1]]\n",
                        "[[0, 0, 0, 0], [0, 1, 2, 3]]\n",
                        "6\n",
                        "[[0, 0, 0], [0, 1, 1], [0, 0, 0], [0, 0, 0]]\n",
                        "[[0, 0, 0], [0, 1, 2], [0, 0, 1], [0, 0, 0]]\n",
                        "[[0, 0, 0], [0, 1, 4], [0, 0, 3], [0, 0, 0]]\n",
                        "[[0, 0, 0], [0, 1, 8], [0, 0, 7], [0, 0, 0]]\n",
                        "[[0, 0, 0], [0, 1, 16], [0, 0, 15], [0, 0, 0]]\n",
                        "0\n",
                        "[[0, 0], [0, 1]]\n",
                        "[[0, 0], [0, 1]]\n",
                        "[[0, 0], [0, 1]]\n",
                        "[[0, 0], [0, 1]]\n",
                        "[[0, 0], [0, 1]]\n",
                        "[[0, 0], [0, 1]]\n",
                        "[[0, 0], [0, 1]]\n",
                        "[[0, 0], [0, 1]]\n",
                        "[[0, 0], [0, 1]]\n",
                        "1\n"
                    ]
                }
            ],
            "source": [
                "def numOfArrays(n: int, m: int, k: int) -> int:\n",
                "    # dp\n",
                "    # dp[A][c][b] represents for the number of ways that \n",
                "    # totally A numbers are present\n",
                "    # current maximum number is b and has exactly c comparisons till now\n",
                "    \n",
                "    # we can downsize the dp array to 2d, since dp[A] only depends on dp[A - 1]\n",
                "    # nxt[c][b] = dp[c - 1][1] + dp[c - 1][2] + ... dp[c - 1][b - 1] + dp[c][b] * b\n",
                "    # 1 bug found: this sum should not take 'dp[c][i] where i > b' into account, since we need to keep the maximum number presented\n",
                "    # 2 bug found: \n",
                "    #   when you are going to append a new number without change the maximum number presented, you can choose any number between [1, b]\n",
                "    #   when you are going to append a new number and change the maximum number presented, you can only choose the maximum number b\n",
                "    # thus\n",
                "    # nxt[c][b - 1] = dp[c - 1][1] + dp[c - 1][2] + ... dp[c - 1][b - 2] + dp[c][b - 1]\n",
                "    # nxt[c][b]     = dp[c - 1][1] + dp[c - 1][2] + ... dp[c - 1][b - 2] + dp[c - 1][b - 1] + dp[c][b]\n",
                "    # in one loop of b, we don't need to recalculate all element, we can use prefix sum to speed up\n",
                "    # simplyfy: nxt[c][b] = nxt[c][b - 1] - dp[c][b - 1] + dp[c - 1][b - 1] + dp[c][b]\n",
                "    #                         ↑ pre_sum\n",
                "\n",
                "    MOD = 10 ** 9 + 7\n",
                "    dp = [[0] * (m + 1) for _ in range(k + 1)]\n",
                "    # initialization\n",
                "    # total 1 number present, exactly 1 comparison\n",
                "    for i in range(1, m + 1): dp[1][i] = 1\n",
                "    print(dp)\n",
                "    for _ in range(1, n):\n",
                "        nxt = [[0] * (m + 1) for _ in range(k + 1)]\n",
                "        for c in range(1, k + 1):\n",
                "            for b in range(1, m + 1):\n",
                "                nxt[c][b] = (nxt[c][b - 1] - dp[c][b - 1] * (b - 1) + dp[c - 1][b - 1] + dp[c][b] * b) % MOD\n",
                "        dp = nxt\n",
                "        print(dp)\n",
                "    return sum(dp[k]) % MOD\n",
                "\n",
                "print(numOfArrays(2, 3, 1))\n",
                "print(numOfArrays(5, 2, 3))\n",
                "print(numOfArrays(9, 1, 1))"
            ]
        },
        {
            "cell_type": "code",
            "execution_count": 26,
            "metadata": {},
            "outputs": [
                {
                    "name": "stdout",
                    "output_type": "stream",
                    "text": [
                        "0 1\n",
                        "----------\n",
                        "2\n",
                        "3\n",
                        "4\n"
                    ]
                }
            ],
            "source": [
                "a = [i for i in range(5)]\n",
                "\n",
                "def get_a(a: list):\n",
                "    yield a[0]\n",
                "    for i in a[1:]:\n",
                "        yield i\n",
                "\n",
                "mask = get_a(a)\n",
                "print(next(mask), next(mask))\n",
                "print('-' * 10)\n",
                "for tt in mask:\n",
                "    print(tt)"
            ]
        },
        {
            "cell_type": "code",
            "execution_count": 32,
            "metadata": {},
            "outputs": [
                {
                    "name": "stdout",
                    "output_type": "stream",
                    "text": [
                        "3\n",
                        "5\n"
                    ]
                }
            ],
            "source": [
                "from itertools import count\n",
                "\n",
                "class A:\n",
                "    def __init__(self):\n",
                "        self._counter = count(start = 3, step = 2)\n",
                "\n",
                "    def get_count(self):\n",
                "        return next(self._counter)\n",
                "    \n",
                "a = A()\n",
                "print(a.get_count())\n",
                "print(a.get_count())\n"
            ]
        },
        {
            "cell_type": "code",
            "execution_count": 40,
            "metadata": {},
            "outputs": [
                {
                    "name": "stdout",
                    "output_type": "stream",
                    "text": [
                        "3\n",
                        "1\n",
                        "2\n",
                        "3\n"
                    ]
                }
            ],
            "source": [
                "# queues.py\n",
                "\n",
                "from collections import deque\n",
                "\n",
                "class IterableMixin:\n",
                "    def __len__(self):\n",
                "        return len(self._elements)\n",
                "\n",
                "    def __iter__(self):\n",
                "        while len(self) > 0:\n",
                "            yield self.dequeue()\n",
                "\n",
                "class Queue(IterableMixin):\n",
                "    def __init__(self, *elements):\n",
                "        self._elements = deque(elements)\n",
                "\n",
                "    def enqueue(self, element):\n",
                "        self._elements.append(element)\n",
                "\n",
                "    def dequeue(self):\n",
                "        return self._elements.popleft()\n",
                "\n",
                "q = Queue(1, 2, 3)\n",
                "print(len(q))\n",
                "for i in q: print(i)"
            ]
        },
        {
            "cell_type": "code",
            "execution_count": 46,
            "metadata": {},
            "outputs": [
                {
                    "name": "stdout",
                    "output_type": "stream",
                    "text": [
                        "2\n",
                        "<class 'int'>\n",
                        "(1, 1)\n",
                        "<class 'int'>\n",
                        "(2, 2)\n"
                    ]
                }
            ],
            "source": [
                "a = 0 or 2\n",
                "print(a)\n",
                "\n",
                "a = {1: 1, 2: 2}\n",
                "for i in a.items():\n",
                "    print(type(i[1]))\n",
                "    print(i)"
            ]
        },
        {
            "cell_type": "code",
            "execution_count": 50,
            "metadata": {},
            "outputs": [
                {
                    "name": "stdout",
                    "output_type": "stream",
                    "text": [
                        "-1 2\n"
                    ]
                }
            ],
            "source": [
                "class MountainArray:\n",
                "    list = [1, 5, 2]\n",
                "    def get(self, index):\n",
                "        return self.list[index]\n",
                "\n",
                "    def length(self):\n",
                "        return len(self.list)\n",
                "\n",
                "mountain_arr = MountainArray()\n",
                "def find_peak(left, right):\n",
                "    while left < right:\n",
                "        mid = (left + right) >> 1\n",
                "        if mountain_arr.get(mid) < mountain_arr.get(mid + 1):\n",
                "            left = mid + 1\n",
                "        else:\n",
                "            right = mid\n",
                "    return left\n",
                "\n",
                "peak = find_peak(0, 3)\n",
                "\n",
                "target = 2\n",
                "def find_target(left, right, increase: bool):\n",
                "    while left < right:\n",
                "        mid = (left + right) >> 1\n",
                "        curr = mountain_arr.get(mid)\n",
                "        if curr == target: return mid\n",
                "        if increase:\n",
                "            if curr > target: right = mid\n",
                "            else: left = mid + 1\n",
                "        else:\n",
                "            if curr < target: right = mid\n",
                "            else: left = mid + 1\n",
                "    return left if mountain_arr.get(left) == target else -1\n",
                "        \n",
                "left, right = find_target(0, peak, True), find_target(peak, mountain_arr.length() - 1, False)\n",
                "print(left, right)"
            ]
        }
    ],
    "metadata": {
        "kernelspec": {
            "display_name": "Python 3.9.10 64-bit",
            "language": "python",
            "name": "python3"
        },
        "language_info": {
            "codemirror_mode": {
                "name": "ipython",
                "version": 3
            },
            "file_extension": ".py",
            "mimetype": "text/x-python",
            "name": "python",
            "nbconvert_exporter": "python",
            "pygments_lexer": "ipython3",
            "version": "3.11.4"
        },
        "orig_nbformat": 4,
        "vscode": {
            "interpreter": {
                "hash": "949777d72b0d2535278d3dc13498b2535136f6dfe0678499012e853ee9abcab1"
            }
        }
    },
    "nbformat": 4,
    "nbformat_minor": 2
}
